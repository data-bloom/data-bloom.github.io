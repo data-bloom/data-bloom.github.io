{
 "cells": [
  {
   "cell_type": "markdown",
   "metadata": {},
   "source": [
    "# Deep Learning\n",
    "\n",
    "Machines are getting extremely personal in their ability to reason and react with human level intelligence. Take for example your personal smartphone, with simple sensors, is able to precisely tell if you are currently walking, running, sleeping, or climbing.\n",
    "\n",
    "Take the dataset at https://archive.ics.uci.edu/ml/machine-learning-databases/00240/UCI%20HAR%20Dataset.names. The Human Activity Recognition dataset which presumably is what is being recorded by the sensors in the phone. We want to process and measure if we can predict the human activity accurately."
   ]
  },
  {
   "cell_type": "markdown",
   "metadata": {},
   "source": [
    "## Data\n",
    "\n",
    "Download the dataset from https://archive.ics.uci.edu/ml/machine-learning-databases/00240/. The dataset is normalized readings from the accelerometers and gyrometers measuring X, Y, Z motions respectively from willing people wearing smartwatches that le their activity be recorded too. We will use this training set to develop activity prediction system. "
   ]
  },
  {
   "cell_type": "code",
   "execution_count": 1,
   "metadata": {
    "collapsed": false
   },
   "outputs": [
    {
     "data": {
      "text/html": [
       "<div>\n",
       "<table border=\"1\" class=\"dataframe\">\n",
       "  <thead>\n",
       "    <tr style=\"text-align: right;\">\n",
       "      <th></th>\n",
       "      <th>activity</th>\n",
       "      <th>tBodyAcc-mean()-X</th>\n",
       "      <th>tBodyAcc-mean()-Y</th>\n",
       "      <th>tBodyAcc-mean()-Z</th>\n",
       "      <th>...</th>\n",
       "      <th>angle(tBodyGyroJerkMean,gravityMean)</th>\n",
       "      <th>angle(X,gravityMean)</th>\n",
       "      <th>angle(Y,gravityMean)</th>\n",
       "      <th>angle(Z,gravityMean)</th>\n",
       "    </tr>\n",
       "  </thead>\n",
       "  <tbody>\n",
       "    <tr>\n",
       "      <th>0</th>\n",
       "      <td>STANDING</td>\n",
       "      <td>0.29</td>\n",
       "      <td>-0.02</td>\n",
       "      <td>-0.13</td>\n",
       "      <td>...</td>\n",
       "      <td>-0.02</td>\n",
       "      <td>-0.84</td>\n",
       "      <td>0.18</td>\n",
       "      <td>-0.06</td>\n",
       "    </tr>\n",
       "    <tr>\n",
       "      <th>1</th>\n",
       "      <td>STANDING</td>\n",
       "      <td>0.28</td>\n",
       "      <td>-0.02</td>\n",
       "      <td>-0.12</td>\n",
       "      <td>...</td>\n",
       "      <td>0.70</td>\n",
       "      <td>-0.84</td>\n",
       "      <td>0.18</td>\n",
       "      <td>-0.05</td>\n",
       "    </tr>\n",
       "    <tr>\n",
       "      <th>2</th>\n",
       "      <td>STANDING</td>\n",
       "      <td>0.28</td>\n",
       "      <td>-0.02</td>\n",
       "      <td>-0.11</td>\n",
       "      <td>...</td>\n",
       "      <td>0.81</td>\n",
       "      <td>-0.85</td>\n",
       "      <td>0.18</td>\n",
       "      <td>-0.05</td>\n",
       "    </tr>\n",
       "    <tr>\n",
       "      <th>3</th>\n",
       "      <td>STANDING</td>\n",
       "      <td>0.28</td>\n",
       "      <td>-0.03</td>\n",
       "      <td>-0.12</td>\n",
       "      <td>...</td>\n",
       "      <td>-0.49</td>\n",
       "      <td>-0.85</td>\n",
       "      <td>0.18</td>\n",
       "      <td>-0.05</td>\n",
       "    </tr>\n",
       "    <tr>\n",
       "      <th>4</th>\n",
       "      <td>STANDING</td>\n",
       "      <td>0.28</td>\n",
       "      <td>-0.02</td>\n",
       "      <td>-0.12</td>\n",
       "      <td>...</td>\n",
       "      <td>-0.62</td>\n",
       "      <td>-0.85</td>\n",
       "      <td>0.19</td>\n",
       "      <td>-0.04</td>\n",
       "    </tr>\n",
       "  </tbody>\n",
       "</table>\n",
       "<p>5 rows × 562 columns</p>\n",
       "</div>"
      ],
      "text/plain": [
       "   activity  tBodyAcc-mean()-X  tBodyAcc-mean()-Y  tBodyAcc-mean()-Z  \\\n",
       "0  STANDING               0.29              -0.02              -0.13   \n",
       "1  STANDING               0.28              -0.02              -0.12   \n",
       "2  STANDING               0.28              -0.02              -0.11   \n",
       "3  STANDING               0.28              -0.03              -0.12   \n",
       "4  STANDING               0.28              -0.02              -0.12   \n",
       "\n",
       "           ...           angle(tBodyGyroJerkMean,gravityMean)  \\\n",
       "0          ...                                          -0.02   \n",
       "1          ...                                           0.70   \n",
       "2          ...                                           0.81   \n",
       "3          ...                                          -0.49   \n",
       "4          ...                                          -0.62   \n",
       "\n",
       "   angle(X,gravityMean)  angle(Y,gravityMean)  angle(Z,gravityMean)  \n",
       "0                 -0.84                  0.18                 -0.06  \n",
       "1                 -0.84                  0.18                 -0.05  \n",
       "2                 -0.85                  0.18                 -0.05  \n",
       "3                 -0.85                  0.18                 -0.05  \n",
       "4                 -0.85                  0.19                 -0.04  \n",
       "\n",
       "[5 rows x 562 columns]"
      ]
     },
     "metadata": {},
     "output_type": "display_data"
    },
    {
     "data": {
      "text/html": [
       "<div>\n",
       "<table border=\"1\" class=\"dataframe\">\n",
       "  <thead>\n",
       "    <tr style=\"text-align: right;\">\n",
       "      <th></th>\n",
       "      <th>activity</th>\n",
       "      <th>tBodyAcc-mean()-X</th>\n",
       "      <th>tBodyAcc-mean()-Y</th>\n",
       "      <th>tBodyAcc-mean()-Z</th>\n",
       "      <th>...</th>\n",
       "      <th>angle(tBodyGyroJerkMean,gravityMean)</th>\n",
       "      <th>angle(X,gravityMean)</th>\n",
       "      <th>angle(Y,gravityMean)</th>\n",
       "      <th>angle(Z,gravityMean)</th>\n",
       "    </tr>\n",
       "  </thead>\n",
       "  <tbody>\n",
       "    <tr>\n",
       "      <th>0</th>\n",
       "      <td>STANDING</td>\n",
       "      <td>0.26</td>\n",
       "      <td>-0.02</td>\n",
       "      <td>-0.01</td>\n",
       "      <td>...</td>\n",
       "      <td>0.27</td>\n",
       "      <td>-0.72</td>\n",
       "      <td>0.28</td>\n",
       "      <td>-0.06</td>\n",
       "    </tr>\n",
       "    <tr>\n",
       "      <th>1</th>\n",
       "      <td>STANDING</td>\n",
       "      <td>0.29</td>\n",
       "      <td>-0.01</td>\n",
       "      <td>-0.12</td>\n",
       "      <td>...</td>\n",
       "      <td>0.92</td>\n",
       "      <td>-0.70</td>\n",
       "      <td>0.28</td>\n",
       "      <td>-0.08</td>\n",
       "    </tr>\n",
       "    <tr>\n",
       "      <th>2</th>\n",
       "      <td>STANDING</td>\n",
       "      <td>0.28</td>\n",
       "      <td>-0.03</td>\n",
       "      <td>-0.12</td>\n",
       "      <td>...</td>\n",
       "      <td>0.15</td>\n",
       "      <td>-0.70</td>\n",
       "      <td>0.28</td>\n",
       "      <td>-0.08</td>\n",
       "    </tr>\n",
       "    <tr>\n",
       "      <th>3</th>\n",
       "      <td>STANDING</td>\n",
       "      <td>0.27</td>\n",
       "      <td>-0.03</td>\n",
       "      <td>-0.12</td>\n",
       "      <td>...</td>\n",
       "      <td>0.30</td>\n",
       "      <td>-0.70</td>\n",
       "      <td>0.28</td>\n",
       "      <td>-0.08</td>\n",
       "    </tr>\n",
       "    <tr>\n",
       "      <th>4</th>\n",
       "      <td>STANDING</td>\n",
       "      <td>0.27</td>\n",
       "      <td>-0.03</td>\n",
       "      <td>-0.13</td>\n",
       "      <td>...</td>\n",
       "      <td>-0.12</td>\n",
       "      <td>-0.69</td>\n",
       "      <td>0.29</td>\n",
       "      <td>-0.07</td>\n",
       "    </tr>\n",
       "  </tbody>\n",
       "</table>\n",
       "<p>5 rows × 562 columns</p>\n",
       "</div>"
      ],
      "text/plain": [
       "   activity  tBodyAcc-mean()-X  tBodyAcc-mean()-Y  tBodyAcc-mean()-Z  \\\n",
       "0  STANDING               0.26              -0.02              -0.01   \n",
       "1  STANDING               0.29              -0.01              -0.12   \n",
       "2  STANDING               0.28              -0.03              -0.12   \n",
       "3  STANDING               0.27              -0.03              -0.12   \n",
       "4  STANDING               0.27              -0.03              -0.13   \n",
       "\n",
       "           ...           angle(tBodyGyroJerkMean,gravityMean)  \\\n",
       "0          ...                                           0.27   \n",
       "1          ...                                           0.92   \n",
       "2          ...                                           0.15   \n",
       "3          ...                                           0.30   \n",
       "4          ...                                          -0.12   \n",
       "\n",
       "   angle(X,gravityMean)  angle(Y,gravityMean)  angle(Z,gravityMean)  \n",
       "0                 -0.72                  0.28                 -0.06  \n",
       "1                 -0.70                  0.28                 -0.08  \n",
       "2                 -0.70                  0.28                 -0.08  \n",
       "3                 -0.70                  0.28                 -0.08  \n",
       "4                 -0.69                  0.29                 -0.07  \n",
       "\n",
       "[5 rows x 562 columns]"
      ]
     },
     "metadata": {},
     "output_type": "display_data"
    }
   ],
   "source": [
    "# Data from the web\n",
    "import requests, zipfile, StringIO\n",
    "\n",
    "# Let us read the HAR data from UCI -- https://archive.ics.uci.edu/ml/machine-learning-databases/00240/\n",
    "uri = 'https://archive.ics.uci.edu/ml/machine-learning-databases/00240/UCI%20HAR%20Dataset.zip'\n",
    "\n",
    "# Download file to memory; caution to fit in memory\n",
    "download_file = lambda uri: StringIO.StringIO(requests.get(uri).content)\n",
    "\n",
    "# Download it and pin it in memory\n",
    "zip_data = download_file(uri)\n",
    "\n",
    "# Pointer to a file in the zip file\n",
    "file_in_zip = lambda filepath: zipfile.ZipFile(zip_data).open('UCI HAR Dataset/' + filepath)\n",
    "\n",
    "# We will call our \"activity\" y_label\n",
    "y_label = 'activity'\n",
    "\n",
    "# Parse out all the files and compile them together\n",
    "def get_training_set():\n",
    "    # Read the X column names\n",
    "    har_data_labels = pd.read_csv(file_in_zip('features.txt'), sep=\"\\s+\", names=['id', 'feature_name'])\n",
    "\n",
    "    # Read the activity names\n",
    "    activity_map = { str(row.id):row.label_name for i, row in pd.read_csv(file_in_zip('activity_labels.txt'), sep=\"\\s+\", names=['id', 'label_name']).iterrows() }\n",
    "\n",
    "    # Read the X\n",
    "    har_data_x = pd.read_csv(file_in_zip('train/X_train.txt'), sep=\"\\s+\", names=har_data_labels.feature_name.tolist())\n",
    "\n",
    "    # Read the Y\n",
    "    har_data_y = pd.read_csv(file_in_zip('train/y_train.txt'), sep=\"\\s+\", names=[y_label])\n",
    "\n",
    "    # Map the label into a readable form\n",
    "    har_data_y[y_label] = har_data_y[y_label].apply(lambda x: activity_map[str(x)])\n",
    "\n",
    "    # Training data, merge X and Y\n",
    "    har_data_train = pd.concat([har_data_y, har_data_x], axis=1)\n",
    "\n",
    "    # Read the X test\n",
    "    har_test_x = pd.read_csv(file_in_zip('test/X_test.txt'), sep=\"\\s+\", names=har_data_labels.feature_name.tolist())\n",
    "\n",
    "    # Read the Y test\n",
    "    har_test_y = pd.read_csv(file_in_zip('test/y_test.txt'), sep=\"\\s+\", names=['activity'])\n",
    "\n",
    "    # Map the label into a readable form\n",
    "    har_test_y[y_label] = har_test_y[y_label].apply(lambda x: activity_map[str(x)])\n",
    "\n",
    "    # Test data, merge X and Y\n",
    "    har_data_test = pd.concat([har_test_y, har_test_x], axis=1)\n",
    "\n",
    "    # Return the two frames as tuple\n",
    "    return (har_data_train, har_data_test, sorted(activity_map.items()))\n",
    "\n",
    "(train_data, test_data, activity_map) = get_training_set()\n",
    "\n",
    "# Display a preview of the training data\n",
    "display(train_data.head())\n",
    "\n",
    "# Display a preview of the test data\n",
    "display(test_data.head())"
   ]
  },
  {
   "cell_type": "markdown",
   "metadata": {},
   "source": [
    "## Dimensionality\n",
    "\n",
    "The data is obviously a rich dataset with many features. Thankfully these datasets are already normalized into the [-1,+1] range.\n",
    "\n",
    "The size of the feature space, and thus presumably the non orthogonal separation surface in the hyperspace, makes it suitable for analyzing by neural networks (like TensorFlow)."
   ]
  },
  {
   "cell_type": "code",
   "execution_count": 2,
   "metadata": {
    "collapsed": false
   },
   "outputs": [],
   "source": [
    "# Create handy functions to slice dataframe into labels and attributes\n",
    "# aka separate unlabeled dataset (raw attributes/X) from labels (Y)\n",
    "X_data = lambda df: df.copy().drop([y_label], axis=1)\n",
    "Y_data = lambda df: df[y_label]"
   ]
  },
  {
   "cell_type": "markdown",
   "metadata": {},
   "source": [
    "## Logistic Regression\n",
    "\n",
    "First, let us analyze this dataset with a simpler logistic regression model."
   ]
  },
  {
   "cell_type": "code",
   "execution_count": 3,
   "metadata": {
    "collapsed": false
   },
   "outputs": [
    {
     "data": {
      "text/html": [
       "<div>\n",
       "<table border=\"1\" class=\"dataframe\">\n",
       "  <thead>\n",
       "    <tr style=\"text-align: right;\">\n",
       "      <th></th>\n",
       "      <th>Predicted Activity</th>\n",
       "      <th>Real Activity</th>\n",
       "    </tr>\n",
       "  </thead>\n",
       "  <tbody>\n",
       "    <tr>\n",
       "      <th>0</th>\n",
       "      <td>STANDING</td>\n",
       "      <td>STANDING</td>\n",
       "    </tr>\n",
       "    <tr>\n",
       "      <th>1</th>\n",
       "      <td>STANDING</td>\n",
       "      <td>STANDING</td>\n",
       "    </tr>\n",
       "    <tr>\n",
       "      <th>2</th>\n",
       "      <td>SITTING</td>\n",
       "      <td>STANDING</td>\n",
       "    </tr>\n",
       "    <tr>\n",
       "      <th>...</th>\n",
       "      <td>...</td>\n",
       "      <td>...</td>\n",
       "    </tr>\n",
       "    <tr>\n",
       "      <th>2944</th>\n",
       "      <td>WALKING_UPSTAIRS</td>\n",
       "      <td>WALKING_UPSTAIRS</td>\n",
       "    </tr>\n",
       "    <tr>\n",
       "      <th>2945</th>\n",
       "      <td>WALKING_UPSTAIRS</td>\n",
       "      <td>WALKING_UPSTAIRS</td>\n",
       "    </tr>\n",
       "    <tr>\n",
       "      <th>2946</th>\n",
       "      <td>WALKING_UPSTAIRS</td>\n",
       "      <td>WALKING_UPSTAIRS</td>\n",
       "    </tr>\n",
       "  </tbody>\n",
       "</table>\n",
       "<p>2947 rows × 2 columns</p>\n",
       "</div>"
      ],
      "text/plain": [
       "     Predicted Activity     Real Activity\n",
       "0              STANDING          STANDING\n",
       "1              STANDING          STANDING\n",
       "2               SITTING          STANDING\n",
       "...                 ...               ...\n",
       "2944   WALKING_UPSTAIRS  WALKING_UPSTAIRS\n",
       "2945   WALKING_UPSTAIRS  WALKING_UPSTAIRS\n",
       "2946   WALKING_UPSTAIRS  WALKING_UPSTAIRS\n",
       "\n",
       "[2947 rows x 2 columns]"
      ]
     },
     "metadata": {},
     "output_type": "display_data"
    }
   ],
   "source": [
    "from sklearn import linear_model, datasets, metrics\n",
    "from sklearn.metrics import confusion_matrix\n",
    "from sklearn.metrics import accuracy_score\n",
    "\n",
    "# Training Logistic regression\n",
    "logistic_classifier = linear_model.LogisticRegression(C=100.0)\n",
    "\n",
    "# Train and predict the outcomes for test set\n",
    "y_pred = logistic_classifier.fit(X_data(train_data), Y_data(train_data)).predict(X_data(test_data))\n",
    "\n",
    "# The original test data already had the \"real\" outcomes.\n",
    "y_real = Y_data(test_data)\n",
    "\n",
    "# Merge the real and predicted together to display\n",
    "display(pd.DataFrame(zip(y_pred, y_real), columns=['Predicted Activity', 'Real Activity']))"
   ]
  },
  {
   "cell_type": "markdown",
   "metadata": {},
   "source": [
    "## Accuracy\n",
    "\n",
    "How well did we do with a simple logistic regression model and where exactly are we going wrong?"
   ]
  },
  {
   "cell_type": "code",
   "execution_count": 4,
   "metadata": {
    "collapsed": false
   },
   "outputs": [
    {
     "data": {
      "text/html": [
       "<h3>Accuracy with logistic regression model is: 96.267391%</h3>"
      ],
      "text/plain": [
       "<IPython.core.display.HTML object>"
      ]
     },
     "metadata": {},
     "output_type": "display_data"
    }
   ],
   "source": [
    "# Print the accuracy numbers to the screen\n",
    "display(HTML('<h3>Accuracy with logistic regression model is: {0:2f}%</h3>'.format(100*accuracy_score(y_pred, y_real))))"
   ]
  },
  {
   "cell_type": "markdown",
   "metadata": {},
   "source": [
    "Accuracy at 96.2% for a simple logistic regression model is not bad. But where exactly is the confusion coming from? We can plot the confusion matrix to spot where false positives (upper triangular) and false negatives (lower triangular) occur."
   ]
  },
  {
   "cell_type": "code",
   "execution_count": 5,
   "metadata": {
    "collapsed": false
   },
   "outputs": [
    {
     "data": {
      "text/html": [
       "<b>Confusion matrix</b>"
      ],
      "text/plain": [
       "<IPython.core.display.HTML object>"
      ]
     },
     "metadata": {},
     "output_type": "display_data"
    },
    {
     "data": {
      "text/html": [
       "<div>\n",
       "<table border=\"1\" class=\"dataframe\">\n",
       "  <thead>\n",
       "    <tr style=\"text-align: right;\">\n",
       "      <th></th>\n",
       "      <th>WALKING</th>\n",
       "      <th>WALKING_UPSTAIRS</th>\n",
       "      <th>WALKING_DOWNSTAIRS</th>\n",
       "      <th>SITTING</th>\n",
       "      <th>STANDING</th>\n",
       "      <th>LAYING</th>\n",
       "    </tr>\n",
       "  </thead>\n",
       "  <tbody>\n",
       "    <tr>\n",
       "      <th>WALKING</th>\n",
       "      <td>495</td>\n",
       "      <td>0</td>\n",
       "      <td>1</td>\n",
       "      <td>0</td>\n",
       "      <td>0</td>\n",
       "      <td>0</td>\n",
       "    </tr>\n",
       "    <tr>\n",
       "      <th>WALKING_UPSTAIRS</th>\n",
       "      <td>23</td>\n",
       "      <td>447</td>\n",
       "      <td>0</td>\n",
       "      <td>1</td>\n",
       "      <td>0</td>\n",
       "      <td>0</td>\n",
       "    </tr>\n",
       "    <tr>\n",
       "      <th>WALKING_DOWNSTAIRS</th>\n",
       "      <td>3</td>\n",
       "      <td>6</td>\n",
       "      <td>411</td>\n",
       "      <td>0</td>\n",
       "      <td>0</td>\n",
       "      <td>0</td>\n",
       "    </tr>\n",
       "    <tr>\n",
       "      <th>SITTING</th>\n",
       "      <td>0</td>\n",
       "      <td>4</td>\n",
       "      <td>0</td>\n",
       "      <td>429</td>\n",
       "      <td>55</td>\n",
       "      <td>3</td>\n",
       "    </tr>\n",
       "    <tr>\n",
       "      <th>STANDING</th>\n",
       "      <td>1</td>\n",
       "      <td>0</td>\n",
       "      <td>0</td>\n",
       "      <td>13</td>\n",
       "      <td>518</td>\n",
       "      <td>0</td>\n",
       "    </tr>\n",
       "    <tr>\n",
       "      <th>LAYING</th>\n",
       "      <td>0</td>\n",
       "      <td>0</td>\n",
       "      <td>0</td>\n",
       "      <td>0</td>\n",
       "      <td>0</td>\n",
       "      <td>537</td>\n",
       "    </tr>\n",
       "  </tbody>\n",
       "</table>\n",
       "</div>"
      ],
      "text/plain": [
       "                    WALKING  WALKING_UPSTAIRS  WALKING_DOWNSTAIRS  SITTING  \\\n",
       "WALKING                 495                 0                   1        0   \n",
       "WALKING_UPSTAIRS         23               447                   0        1   \n",
       "WALKING_DOWNSTAIRS        3                 6                 411        0   \n",
       "SITTING                   0                 4                   0      429   \n",
       "STANDING                  1                 0                   0       13   \n",
       "LAYING                    0                 0                   0        0   \n",
       "\n",
       "                    STANDING  LAYING  \n",
       "WALKING                    0       0  \n",
       "WALKING_UPSTAIRS           0       0  \n",
       "WALKING_DOWNSTAIRS         0       0  \n",
       "SITTING                   55       3  \n",
       "STANDING                 518       0  \n",
       "LAYING                     0     537  "
      ]
     },
     "metadata": {},
     "output_type": "display_data"
    },
    {
     "data": {
      "image/png": "[encoded data removed]",
      "text/plain": [
       "<matplotlib.figure.Figure at 0x109ef9ad0>"
      ]
     },
     "metadata": {},
     "output_type": "display_data"
    }
   ],
   "source": [
    "# Draw the confusion matrix\n",
    "def plot_confusion_matrix(cm, title='Confusion matrix', cmap=plt.cm.Blues, labels=None):\n",
    "    # Show the confusion matrix as an image\n",
    "    plt.imshow(cm, interpolation='nearest', cmap=cmap)\n",
    "    plt.title(title)\n",
    "    plt.colorbar()\n",
    "    # Put labels on axis\n",
    "    tick_marks = np.arange(len(labels))\n",
    "    plt.xticks(tick_marks, labels, rotation=45)\n",
    "    plt.yticks(tick_marks, labels)\n",
    "    # Pack it together\n",
    "    plt.tight_layout()\n",
    "    \n",
    "    # Render the DataFrame as a table for easy view\n",
    "    cmpd = pd.DataFrame(cm, columns=labels)\n",
    "    cmpd.index = labels\n",
    "    display(HTML('<b>Confusion matrix</b>'))\n",
    "    display(cmpd)\n",
    "    plt.ylabel('Real Activity')\n",
    "    plt.xlabel('Predicted Activity')\n",
    "\n",
    "\n",
    "# Labels\n",
    "labels = map(lambda x: x[1], activity_map)\n",
    "# Compute confusion matrix\n",
    "cm = confusion_matrix(y_real, y_pred, labels=labels)\n",
    "\n",
    "# Show the confusion matrix\n",
    "plt.figure()\n",
    "plot_confusion_matrix(cm, labels=labels)\n",
    "plt.show()"
   ]
  },
  {
   "cell_type": "markdown",
   "metadata": {},
   "source": [
    "## Findings\n",
    "\n",
    "We find that the machine does very well, but most confused (misclassifying) instances during \"walking upstairs\" and \"walking downstairs\" as \"walking\". A genuine confusion, you may surmise, if the slope of the walk is moderate, it is perhaps easy to imagine why the confusion may occur.\n",
    "\n",
    "Similarly when the subject is standing or sitting, there is no lateral (X and Y axis) motion. Stationary motions (sitting and standing) are causing confusion as well.\n",
    "\n",
    "But out of a total of 2947 test observations, achieving 96% accuracy is a great start."
   ]
  },
  {
   "cell_type": "markdown",
   "metadata": {},
   "source": [
    "## TensorFlow\n",
    "\n",
    "TensorFlow is the deep learning framework by Google. See more here -- https://www.tensorflow.org/. The neural network should yield better results if the separation surface is non linear."
   ]
  },
  {
   "cell_type": "code",
   "execution_count": 6,
   "metadata": {
    "collapsed": false
   },
   "outputs": [
    {
     "data": {
      "text/plain": [
       "Pipeline(steps=[('Scaler', StandardScaler(copy=True, with_mean=True, with_std=True)), ('DNNclassifier', <tensorflow.contrib.learn.python.learn.estimators.dnn.DNNClassifier object at 0x121a502d0>)])"
      ]
     },
     "execution_count": 6,
     "metadata": {},
     "output_type": "execute_result"
    }
   ],
   "source": [
    "import tensorflow as tf\n",
    "from tensorflow.contrib import learn\n",
    "from sklearn.pipeline import Pipeline\n",
    "from sklearn.preprocessing import LabelEncoder, StandardScaler\n",
    "\n",
    "# suppress tensorflow WARN verbosity\n",
    "tf.logging.set_verbosity(tf.logging.ERROR)\n",
    "\n",
    "# The original test data already had the \"real\" outcomes.\n",
    "y_numbers = pd.concat([Y_data(train_data), Y_data(\n",
    "    test_data)])  # Get all possible activity names again from the data\n",
    "\n",
    "# Turn the activity labels into integers\n",
    "activity_encoder = LabelEncoder().fit(y_numbers)\n",
    "\n",
    "# We do not need to scale the values really because they are already in the -1 to +1 range.\n",
    "# But let us scale them into a unit normal scale so sigmoid functions of neural networks make sense\n",
    "scaler = StandardScaler()\n",
    "\n",
    "# Map the activity names (like Walking, Standing, Sitting into 0, 1, 2 etc)\n",
    "Y_train_numeric = activity_encoder.transform(\n",
    "    Y_data(train_data))  # Training labels\n",
    "Y_test_numeric = activity_encoder.transform(Y_data(test_data))  # Test labels\n",
    "\n",
    "# Number of distinct classes in the multiclass classifier\n",
    "n_classes = len(activity_encoder.classes_)\n",
    "\n",
    "# Build the classifier -- TensorFlow graph that is...\n",
    "# cast all values to float32 to be tensorflow friendly\n",
    "classifier = learn.DNNClassifier(\n",
    "    feature_columns=learn.infer_real_valued_columns_from_input(\n",
    "        X_data(train_data).astype('float32')),\n",
    "    hidden_units=[len(train_data.columns.values), n_classes],\n",
    "    n_classes=n_classes)\n",
    "\n",
    "# Hash it into a pipeline so we can use more transformations in the pipeline\n",
    "# Scale the vectors before they go into the network\n",
    "pipeline = Pipeline([('Scaler', scaler), ('DNNclassifier', classifier)])\n",
    "\n",
    "# Train the Tensorflow network\n",
    "pipeline.fit(X_data(train_data), Y_train_numeric, DNNclassifier__steps=200)"
   ]
  },
  {
   "cell_type": "markdown",
   "metadata": {},
   "source": [
    "## Predict"
   ]
  },
  {
   "cell_type": "code",
   "execution_count": 7,
   "metadata": {
    "collapsed": false
   },
   "outputs": [
    {
     "data": {
      "text/html": [
       "<div>\n",
       "<table border=\"1\" class=\"dataframe\">\n",
       "  <thead>\n",
       "    <tr style=\"text-align: right;\">\n",
       "      <th></th>\n",
       "      <th>Predicted Activity</th>\n",
       "      <th>Real Activity</th>\n",
       "    </tr>\n",
       "  </thead>\n",
       "  <tbody>\n",
       "    <tr>\n",
       "      <th>0</th>\n",
       "      <td>STANDING</td>\n",
       "      <td>STANDING</td>\n",
       "    </tr>\n",
       "    <tr>\n",
       "      <th>1</th>\n",
       "      <td>STANDING</td>\n",
       "      <td>STANDING</td>\n",
       "    </tr>\n",
       "    <tr>\n",
       "      <th>2</th>\n",
       "      <td>STANDING</td>\n",
       "      <td>STANDING</td>\n",
       "    </tr>\n",
       "    <tr>\n",
       "      <th>...</th>\n",
       "      <td>...</td>\n",
       "      <td>...</td>\n",
       "    </tr>\n",
       "    <tr>\n",
       "      <th>2944</th>\n",
       "      <td>WALKING_UPSTAIRS</td>\n",
       "      <td>WALKING_UPSTAIRS</td>\n",
       "    </tr>\n",
       "    <tr>\n",
       "      <th>2945</th>\n",
       "      <td>WALKING_UPSTAIRS</td>\n",
       "      <td>WALKING_UPSTAIRS</td>\n",
       "    </tr>\n",
       "    <tr>\n",
       "      <th>2946</th>\n",
       "      <td>WALKING_UPSTAIRS</td>\n",
       "      <td>WALKING_UPSTAIRS</td>\n",
       "    </tr>\n",
       "  </tbody>\n",
       "</table>\n",
       "<p>2947 rows × 2 columns</p>\n",
       "</div>"
      ],
      "text/plain": [
       "     Predicted Activity     Real Activity\n",
       "0              STANDING          STANDING\n",
       "1              STANDING          STANDING\n",
       "2              STANDING          STANDING\n",
       "...                 ...               ...\n",
       "2944   WALKING_UPSTAIRS  WALKING_UPSTAIRS\n",
       "2945   WALKING_UPSTAIRS  WALKING_UPSTAIRS\n",
       "2946   WALKING_UPSTAIRS  WALKING_UPSTAIRS\n",
       "\n",
       "[2947 rows x 2 columns]"
      ]
     },
     "metadata": {},
     "output_type": "display_data"
    }
   ],
   "source": [
    "# For test set, blind-fold real activity, and predict the outcome\n",
    "y_pred = activity_encoder.inverse_transform(list(pipeline.predict(X_data(test_data))))\n",
    "\n",
    "# The original test data already had the \"real\" outcomes.\n",
    "# Put the real and predicted activity from tensorflow together\n",
    "y_real = Y_data(test_data)\n",
    "\n",
    "# Merge the real and predicted together to display\n",
    "display(pd.DataFrame(zip(y_pred, y_real), columns=['Predicted Activity', 'Real Activity']))"
   ]
  },
  {
   "cell_type": "markdown",
   "metadata": {},
   "source": [
    "## Accuracy\n",
    "\n",
    "How well did we do with a TensorFlow model and where exactly are we going wrong?"
   ]
  },
  {
   "cell_type": "code",
   "execution_count": 8,
   "metadata": {
    "collapsed": false
   },
   "outputs": [
    {
     "data": {
      "text/html": [
       "<h3>Accuracy with tensorflow model is: 94.502884%</h3>"
      ],
      "text/plain": [
       "<IPython.core.display.HTML object>"
      ]
     },
     "metadata": {},
     "output_type": "display_data"
    }
   ],
   "source": [
    "# Print the accuracy numbers to the screen\n",
    "display(HTML('<h3>Accuracy with tensorflow model is: {0:2f}%</h3>'.format(100*accuracy_score(y_pred, y_real))))"
   ]
  },
  {
   "cell_type": "markdown",
   "metadata": {},
   "source": [
    "Accuracy at 93% model is alright. But where exactly is the confusion coming from?"
   ]
  },
  {
   "cell_type": "markdown",
   "metadata": {},
   "source": [
    "## Confusion Matrix"
   ]
  },
  {
   "cell_type": "code",
   "execution_count": 9,
   "metadata": {
    "collapsed": false
   },
   "outputs": [
    {
     "data": {
      "text/html": [
       "<b>Confusion matrix</b>"
      ],
      "text/plain": [
       "<IPython.core.display.HTML object>"
      ]
     },
     "metadata": {},
     "output_type": "display_data"
    },
    {
     "data": {
      "text/html": [
       "<div>\n",
       "<table border=\"1\" class=\"dataframe\">\n",
       "  <thead>\n",
       "    <tr style=\"text-align: right;\">\n",
       "      <th></th>\n",
       "      <th>WALKING</th>\n",
       "      <th>WALKING_UPSTAIRS</th>\n",
       "      <th>WALKING_DOWNSTAIRS</th>\n",
       "      <th>SITTING</th>\n",
       "      <th>STANDING</th>\n",
       "      <th>LAYING</th>\n",
       "    </tr>\n",
       "  </thead>\n",
       "  <tbody>\n",
       "    <tr>\n",
       "      <th>WALKING</th>\n",
       "      <td>491</td>\n",
       "      <td>2</td>\n",
       "      <td>3</td>\n",
       "      <td>0</td>\n",
       "      <td>0</td>\n",
       "      <td>0</td>\n",
       "    </tr>\n",
       "    <tr>\n",
       "      <th>WALKING_UPSTAIRS</th>\n",
       "      <td>19</td>\n",
       "      <td>441</td>\n",
       "      <td>11</td>\n",
       "      <td>0</td>\n",
       "      <td>0</td>\n",
       "      <td>0</td>\n",
       "    </tr>\n",
       "    <tr>\n",
       "      <th>WALKING_DOWNSTAIRS</th>\n",
       "      <td>9</td>\n",
       "      <td>31</td>\n",
       "      <td>380</td>\n",
       "      <td>0</td>\n",
       "      <td>0</td>\n",
       "      <td>0</td>\n",
       "    </tr>\n",
       "    <tr>\n",
       "      <th>SITTING</th>\n",
       "      <td>0</td>\n",
       "      <td>1</td>\n",
       "      <td>0</td>\n",
       "      <td>442</td>\n",
       "      <td>45</td>\n",
       "      <td>3</td>\n",
       "    </tr>\n",
       "    <tr>\n",
       "      <th>STANDING</th>\n",
       "      <td>0</td>\n",
       "      <td>0</td>\n",
       "      <td>0</td>\n",
       "      <td>37</td>\n",
       "      <td>495</td>\n",
       "      <td>0</td>\n",
       "    </tr>\n",
       "    <tr>\n",
       "      <th>LAYING</th>\n",
       "      <td>0</td>\n",
       "      <td>0</td>\n",
       "      <td>0</td>\n",
       "      <td>0</td>\n",
       "      <td>1</td>\n",
       "      <td>536</td>\n",
       "    </tr>\n",
       "  </tbody>\n",
       "</table>\n",
       "</div>"
      ],
      "text/plain": [
       "                    WALKING  WALKING_UPSTAIRS  WALKING_DOWNSTAIRS  SITTING  \\\n",
       "WALKING                 491                 2                   3        0   \n",
       "WALKING_UPSTAIRS         19               441                  11        0   \n",
       "WALKING_DOWNSTAIRS        9                31                 380        0   \n",
       "SITTING                   0                 1                   0      442   \n",
       "STANDING                  0                 0                   0       37   \n",
       "LAYING                    0                 0                   0        0   \n",
       "\n",
       "                    STANDING  LAYING  \n",
       "WALKING                    0       0  \n",
       "WALKING_UPSTAIRS           0       0  \n",
       "WALKING_DOWNSTAIRS         0       0  \n",
       "SITTING                   45       3  \n",
       "STANDING                 495       0  \n",
       "LAYING                     1     536  "
      ]
     },
     "metadata": {},
     "output_type": "display_data"
    },
    {
     "data": {
      "image/png": "[encoded data removed]",
      "text/plain": [
       "<matplotlib.figure.Figure at 0x10f64a710>"
      ]
     },
     "metadata": {},
     "output_type": "display_data"
    }
   ],
   "source": [
    "# Labels\n",
    "labels = map(lambda x: x[1], activity_map)\n",
    "# Compute confusion matrix\n",
    "cm = confusion_matrix(y_real, y_pred, labels=labels)\n",
    "\n",
    "# Show the confusion matrix\n",
    "plt.figure()\n",
    "plot_confusion_matrix(cm, labels=labels)\n",
    "plt.show()"
   ]
  },
  {
   "cell_type": "markdown",
   "metadata": {},
   "source": [
    "## Findings\n",
    "\n",
    "We find that the tensorflow does alright with ~93% accuracy, but was most confused (misclassifying) instances during \"walking upstairs\" and \"walking downstairs\" as \"walking\". A genuine confusion, you may surmise, if the slope of the walk is moderate.\n",
    "\n",
    "Similarly when the subject is standing or sitting, there is confusion due to the lack of motion along X and Y dimensions.\n",
    "\n",
    "But out of a total of 2947 test observations, achieving 93% accuracy is a good start."
   ]
  },
  {
   "cell_type": "markdown",
   "metadata": {},
   "source": [
    "<hr />"
   ]
  }
 ],
 "metadata": {
  "anaconda-cloud": {},
  "hide_input": false,
  "kernelspec": {
   "display_name": "Python [Root]",
   "language": "python",
   "name": "Python [Root]"
  },
  "language_info": {
   "codemirror_mode": {
    "name": "ipython",
    "version": 2
   },
   "file_extension": ".py",
   "mimetype": "text/x-python",
   "name": "python",
   "nbconvert_exporter": "python",
   "pygments_lexer": "ipython2",
   "version": "2.7.13"
  }
 },
 "nbformat": 4,
 "nbformat_minor": 2
}
