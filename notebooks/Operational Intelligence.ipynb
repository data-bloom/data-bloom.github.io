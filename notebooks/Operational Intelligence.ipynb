{
 "cells": [
  {
   "cell_type": "markdown",
   "metadata": {
    "nbpresent": {
     "id": "9a398428-88e1-4ab3-a2e8-45772ed5bc9c"
    }
   },
   "source": [
    "# Operational Intelligence\n",
    "\n",
    "Capture data in realtime and draw dashboards for you cannot improve what you cannot measure. When business shows a trend -- up or down -- it is imperative for you to stay ahead of the realtime intelligence and take proactive action versus reacting after the fact. \n",
    "\n",
    "Underneath we show a simple web analytics module that measures -- \n",
    "\n",
    "1. pre-eminent browser clients. \n",
    "2. pre-eminent countries of traffic over a simulated 3 day window. "
   ]
  },
  {
   "cell_type": "markdown",
   "metadata": {},
   "source": [
    "## Capture Realtime Data\n",
    "\n",
    "Ideally in real world, you want to open a syslog daemon directly on top of the Spark Streaming context and receive data in near realtime. The idea is to aggregate, visualize, monitor, and alert any non-normative behavior. There are existing tools like ELK, SILK, Druid, and Splunk that already provide this intelligence out of the box, but this notebook is intended to be educational."
   ]
  },
  {
   "cell_type": "code",
   "execution_count": 1,
   "metadata": {
    "collapsed": false
   },
   "outputs": [],
   "source": [
    "# To generate the socket stream, use the following code\n",
    "from pyspark.streaming import StreamingContext\n",
    "\n",
    "# Create the streamingcontext\n",
    "# ssc = StreamingContext(sc)\n",
    "\n",
    "# Create a DStream that will connect to hostname:port, like localhost:9999\n",
    "# log_lines = ssc.socketTextStream(\"localhost\", 9998)\n",
    "\n",
    "# Start the socket monitor\n",
    "# ssc.start() # Uncomment if necessary for realtime data\n",
    "\n",
    "# Run perpetually updating the dashboards constantly.\n",
    "# ssc.awaitTermination() #Uncomment if necessary for realtime data"
   ]
  },
  {
   "cell_type": "markdown",
   "metadata": {},
   "source": [
    "## Simulated Local Data\n",
    "\n",
    "Since we are running in a notebook context, let us just demonstrate the log processing with local log files. We are using log file sample downloaded from https://github.com/elastic/examples/tree/master/ElasticStack_apache"
   ]
  },
  {
   "cell_type": "code",
   "execution_count": 2,
   "metadata": {
    "collapsed": false
   },
   "outputs": [
    {
     "data": {
      "text/plain": [
       "[u'83.149.9.216 - - [17/May/2015:10:05:03 +0000] \"GET /presentations/logstash-monitorama-2013/images/kibana-search.png HTTP/1.1\" 200 203023 \"http://semicomplete.com/presentations/logstash-monitorama-2013/\" \"Mozilla/5.0 (Macintosh; Intel Mac OS X 10_9_1) AppleWebKit/537.36 (KHTML, like Gecko) Chrome/32.0.1700.77 Safari/537.36\"']"
      ]
     },
     "execution_count": 2,
     "metadata": {},
     "output_type": "execute_result"
    }
   ],
   "source": [
    "# Read the log file\n",
    "log_lines = sc.textFile('apache_logs.txt')\n",
    "\n",
    "# Review the format\n",
    "log_lines.take(1)"
   ]
  },
  {
   "cell_type": "markdown",
   "metadata": {
    "nbpresent": {
     "id": "3e1c1932-72e4-4add-8c21-e45f2c072309"
    }
   },
   "source": [
    "## Parse the log"
   ]
  },
  {
   "cell_type": "code",
   "execution_count": 3,
   "metadata": {
    "collapsed": false,
    "nbpresent": {
     "id": "eac00314-7c59-485a-b54c-a7a079f96261"
    }
   },
   "outputs": [
    {
     "name": "stdout",
     "output_type": "stream",
     "text": [
      "{'remote_host': u'83.149.9.216',\n",
      " 'remote_logname': u'-',\n",
      " 'remote_user': u'-',\n",
      " 'request_first_line': u'GET /presentations/logstash-monitorama-2013/images/kibana-search.png HTTP/1.1',\n",
      " 'request_header_referer': u'http://semicomplete.com/presentations/logstash-monitorama-2013/',\n",
      " 'request_header_user_agent': u'Mozilla/5.0 (Macintosh; Intel Mac OS X 10_9_1) AppleWebKit/537.36 (KHTML, like Gecko) Chrome/32.0.1700.77 Safari/537.36',\n",
      " 'request_header_user_agent__browser__family': u'Chrome',\n",
      " 'request_header_user_agent__browser__version_string': '32.0.1700',\n",
      " 'request_header_user_agent__is_mobile': False,\n",
      " 'request_header_user_agent__os__family': 'Mac OS X',\n",
      " 'request_header_user_agent__os__version_string': '10.9.1',\n",
      " 'request_http_ver': u'1.1',\n",
      " 'request_method': u'GET',\n",
      " 'request_url': u'/presentations/logstash-monitorama-2013/images/kibana-search.png',\n",
      " 'request_url_fragment': '',\n",
      " 'request_url_hostname': None,\n",
      " 'request_url_netloc': '',\n",
      " 'request_url_password': None,\n",
      " 'request_url_path': u'/presentations/logstash-monitorama-2013/images/kibana-search.png',\n",
      " 'request_url_port': None,\n",
      " 'request_url_query': '',\n",
      " 'request_url_query_dict': {},\n",
      " 'request_url_query_list': [],\n",
      " 'request_url_query_simple_dict': {},\n",
      " 'request_url_scheme': '',\n",
      " 'request_url_username': None,\n",
      " 'response_bytes_clf': u'203023',\n",
      " 'status': u'200',\n",
      " 'time_received': u'[17/May/2015:10:05:03 +0000]',\n",
      " 'time_received_isoformat': '2015-05-17T10:05:03',\n",
      " 'time_received_tz_isoformat': '2015-05-17T10:05:03+00:00',\n",
      " 'time_received_utc_isoformat': '2015-05-17T10:05:03+00:00'}\n"
     ]
    },
    {
     "data": {
      "text/html": [
       "<div>\n",
       "<table border=\"1\" class=\"dataframe\">\n",
       "  <thead>\n",
       "    <tr style=\"text-align: right;\">\n",
       "      <th></th>\n",
       "      <th>remote_host</th>\n",
       "      <th>remote_logname</th>\n",
       "      <th>remote_user</th>\n",
       "      <th>request_first_line</th>\n",
       "      <th>...</th>\n",
       "      <th>time_received</th>\n",
       "      <th>time_received_isoformat</th>\n",
       "      <th>time_received_tz_isoformat</th>\n",
       "      <th>time_received_utc_isoformat</th>\n",
       "    </tr>\n",
       "  </thead>\n",
       "  <tbody>\n",
       "    <tr>\n",
       "      <th>0</th>\n",
       "      <td>83.149.9.216</td>\n",
       "      <td>-</td>\n",
       "      <td>-</td>\n",
       "      <td>GET /presentations/logstash-monitorama-2013/im...</td>\n",
       "      <td>...</td>\n",
       "      <td>[17/May/2015:10:05:03 +0000]</td>\n",
       "      <td>2015-05-17T10:05:03</td>\n",
       "      <td>2015-05-17T10:05:03+00:00</td>\n",
       "      <td>2015-05-17T10:05:03+00:00</td>\n",
       "    </tr>\n",
       "    <tr>\n",
       "      <th>1</th>\n",
       "      <td>83.149.9.216</td>\n",
       "      <td>-</td>\n",
       "      <td>-</td>\n",
       "      <td>GET /presentations/logstash-monitorama-2013/im...</td>\n",
       "      <td>...</td>\n",
       "      <td>[17/May/2015:10:05:43 +0000]</td>\n",
       "      <td>2015-05-17T10:05:43</td>\n",
       "      <td>2015-05-17T10:05:43+00:00</td>\n",
       "      <td>2015-05-17T10:05:43+00:00</td>\n",
       "    </tr>\n",
       "    <tr>\n",
       "      <th>2</th>\n",
       "      <td>83.149.9.216</td>\n",
       "      <td>-</td>\n",
       "      <td>-</td>\n",
       "      <td>GET /presentations/logstash-monitorama-2013/pl...</td>\n",
       "      <td>...</td>\n",
       "      <td>[17/May/2015:10:05:47 +0000]</td>\n",
       "      <td>2015-05-17T10:05:47</td>\n",
       "      <td>2015-05-17T10:05:47+00:00</td>\n",
       "      <td>2015-05-17T10:05:47+00:00</td>\n",
       "    </tr>\n",
       "    <tr>\n",
       "      <th>...</th>\n",
       "      <td>...</td>\n",
       "      <td>...</td>\n",
       "      <td>...</td>\n",
       "      <td>...</td>\n",
       "      <td>...</td>\n",
       "      <td>...</td>\n",
       "      <td>...</td>\n",
       "      <td>...</td>\n",
       "      <td>...</td>\n",
       "    </tr>\n",
       "    <tr>\n",
       "      <th>9983</th>\n",
       "      <td>66.249.73.135</td>\n",
       "      <td>-</td>\n",
       "      <td>-</td>\n",
       "      <td>GET /?flav=atom HTTP/1.1</td>\n",
       "      <td>...</td>\n",
       "      <td>[20/May/2015:21:05:00 +0000]</td>\n",
       "      <td>2015-05-20T21:05:00</td>\n",
       "      <td>2015-05-20T21:05:00+00:00</td>\n",
       "      <td>2015-05-20T21:05:00+00:00</td>\n",
       "    </tr>\n",
       "    <tr>\n",
       "      <th>9984</th>\n",
       "      <td>180.76.6.56</td>\n",
       "      <td>-</td>\n",
       "      <td>-</td>\n",
       "      <td>GET /robots.txt HTTP/1.1</td>\n",
       "      <td>...</td>\n",
       "      <td>[20/May/2015:21:05:56 +0000]</td>\n",
       "      <td>2015-05-20T21:05:56</td>\n",
       "      <td>2015-05-20T21:05:56+00:00</td>\n",
       "      <td>2015-05-20T21:05:56+00:00</td>\n",
       "    </tr>\n",
       "    <tr>\n",
       "      <th>9985</th>\n",
       "      <td>46.105.14.53</td>\n",
       "      <td>-</td>\n",
       "      <td>-</td>\n",
       "      <td>GET /blog/tags/puppet?flav=rss20 HTTP/1.1</td>\n",
       "      <td>...</td>\n",
       "      <td>[20/May/2015:21:05:15 +0000]</td>\n",
       "      <td>2015-05-20T21:05:15</td>\n",
       "      <td>2015-05-20T21:05:15+00:00</td>\n",
       "      <td>2015-05-20T21:05:15+00:00</td>\n",
       "    </tr>\n",
       "  </tbody>\n",
       "</table>\n",
       "<p>9986 rows × 32 columns</p>\n",
       "</div>"
      ],
      "text/plain": [
       "        remote_host remote_logname remote_user  \\\n",
       "0      83.149.9.216              -           -   \n",
       "1      83.149.9.216              -           -   \n",
       "2      83.149.9.216              -           -   \n",
       "...             ...            ...         ...   \n",
       "9983  66.249.73.135              -           -   \n",
       "9984    180.76.6.56              -           -   \n",
       "9985   46.105.14.53              -           -   \n",
       "\n",
       "                                     request_first_line  \\\n",
       "0     GET /presentations/logstash-monitorama-2013/im...   \n",
       "1     GET /presentations/logstash-monitorama-2013/im...   \n",
       "2     GET /presentations/logstash-monitorama-2013/pl...   \n",
       "...                                                 ...   \n",
       "9983                           GET /?flav=atom HTTP/1.1   \n",
       "9984                           GET /robots.txt HTTP/1.1   \n",
       "9985          GET /blog/tags/puppet?flav=rss20 HTTP/1.1   \n",
       "\n",
       "                 ...                             time_received  \\\n",
       "0                ...              [17/May/2015:10:05:03 +0000]   \n",
       "1                ...              [17/May/2015:10:05:43 +0000]   \n",
       "2                ...              [17/May/2015:10:05:47 +0000]   \n",
       "...              ...                                       ...   \n",
       "9983             ...              [20/May/2015:21:05:00 +0000]   \n",
       "9984             ...              [20/May/2015:21:05:56 +0000]   \n",
       "9985             ...              [20/May/2015:21:05:15 +0000]   \n",
       "\n",
       "     time_received_isoformat time_received_tz_isoformat  \\\n",
       "0        2015-05-17T10:05:03  2015-05-17T10:05:03+00:00   \n",
       "1        2015-05-17T10:05:43  2015-05-17T10:05:43+00:00   \n",
       "2        2015-05-17T10:05:47  2015-05-17T10:05:47+00:00   \n",
       "...                      ...                        ...   \n",
       "9983     2015-05-20T21:05:00  2015-05-20T21:05:00+00:00   \n",
       "9984     2015-05-20T21:05:56  2015-05-20T21:05:56+00:00   \n",
       "9985     2015-05-20T21:05:15  2015-05-20T21:05:15+00:00   \n",
       "\n",
       "     time_received_utc_isoformat  \n",
       "0      2015-05-17T10:05:03+00:00  \n",
       "1      2015-05-17T10:05:43+00:00  \n",
       "2      2015-05-17T10:05:47+00:00  \n",
       "...                          ...  \n",
       "9983   2015-05-20T21:05:00+00:00  \n",
       "9984   2015-05-20T21:05:56+00:00  \n",
       "9985   2015-05-20T21:05:15+00:00  \n",
       "\n",
       "[9986 rows x 32 columns]"
      ]
     },
     "metadata": {},
     "output_type": "display_data"
    }
   ],
   "source": [
    "import apache_log_parser\n",
    "\n",
    "# Make a parser to parse out the web line\n",
    "line_parser = apache_log_parser.Parser(\"%h %l %u %t \\\"%r\\\" %s %b \\\"%{Referer}i\\\" \\\"%{User-Agent}i\\\"\")\n",
    "\n",
    "# Parse and return interesting bits\n",
    "def parse_line(logline):\n",
    "    # Parse and return the dict as a Row of DataFrame\n",
    "    row_dict = {}\n",
    "    try:\n",
    "        row_dict = { k:v for (k,v) in line_parser.parse(logline).iteritems() if 'datetimeobj' not in k}\n",
    "    except:\n",
    "        pass\n",
    "    return row_dict\n",
    "\n",
    "# For each log line, parse and show the parse result\n",
    "import pprint\n",
    "pprint.pprint(sc.parallelize(log_lines.take(1)).map(parse_line).filter(lambda x: len(x) > 5).collect()[0])\n",
    "\n",
    "# Show a preview of the parse in a table form\n",
    "# Collect only hits from mobile devices\n",
    "log_lines_df = log_lines.map(parse_line).filter(lambda x: len(x) > 5).map(lambda x: Row(**x)).toDF(sampleRatio=0.5)\n",
    "\n",
    "# Display the data\n",
    "display(log_lines_df.toPandas())"
   ]
  },
  {
   "cell_type": "markdown",
   "metadata": {
    "collapsed": false
   },
   "source": [
    "## Browser traffic\n",
    "\n",
    "Let us measure which countries and what browsers are most traffic originating from."
   ]
  },
  {
   "cell_type": "code",
   "execution_count": 4,
   "metadata": {
    "collapsed": false
   },
   "outputs": [
    {
     "data": {
      "text/html": [
       "<h4>Timed traffic to the website</h4>"
      ],
      "text/plain": [
       "<IPython.core.display.HTML object>"
      ]
     },
     "metadata": {},
     "output_type": "display_data"
    },
    {
     "data": {
      "text/html": [
       "<div>\n",
       "<table border=\"1\" class=\"dataframe\">\n",
       "  <thead>\n",
       "    <tr style=\"text-align: right;\">\n",
       "      <th></th>\n",
       "      <th>request_header_user_agent__browser__family</th>\n",
       "      <th>remote_host</th>\n",
       "      <th>time_received_isoformat</th>\n",
       "      <th>country</th>\n",
       "    </tr>\n",
       "  </thead>\n",
       "  <tbody>\n",
       "    <tr>\n",
       "      <th>0</th>\n",
       "      <td>Chrome</td>\n",
       "      <td>83.149.9.216</td>\n",
       "      <td>2015-05-17T10:05:03</td>\n",
       "      <td>RU</td>\n",
       "    </tr>\n",
       "    <tr>\n",
       "      <th>1</th>\n",
       "      <td>Chrome</td>\n",
       "      <td>83.149.9.216</td>\n",
       "      <td>2015-05-17T10:05:43</td>\n",
       "      <td>RU</td>\n",
       "    </tr>\n",
       "    <tr>\n",
       "      <th>2</th>\n",
       "      <td>Chrome</td>\n",
       "      <td>83.149.9.216</td>\n",
       "      <td>2015-05-17T10:05:47</td>\n",
       "      <td>RU</td>\n",
       "    </tr>\n",
       "    <tr>\n",
       "      <th>...</th>\n",
       "      <td>...</td>\n",
       "      <td>...</td>\n",
       "      <td>...</td>\n",
       "      <td>...</td>\n",
       "    </tr>\n",
       "    <tr>\n",
       "      <th>9983</th>\n",
       "      <td>Googlebot</td>\n",
       "      <td>66.249.73.135</td>\n",
       "      <td>2015-05-20T21:05:00</td>\n",
       "      <td>US</td>\n",
       "    </tr>\n",
       "    <tr>\n",
       "      <th>9984</th>\n",
       "      <td>Firefox</td>\n",
       "      <td>180.76.6.56</td>\n",
       "      <td>2015-05-20T21:05:56</td>\n",
       "      <td>CN</td>\n",
       "    </tr>\n",
       "    <tr>\n",
       "      <th>9985</th>\n",
       "      <td>Other</td>\n",
       "      <td>46.105.14.53</td>\n",
       "      <td>2015-05-20T21:05:15</td>\n",
       "      <td>FR</td>\n",
       "    </tr>\n",
       "  </tbody>\n",
       "</table>\n",
       "<p>9986 rows × 4 columns</p>\n",
       "</div>"
      ],
      "text/plain": [
       "     request_header_user_agent__browser__family    remote_host  \\\n",
       "0                                        Chrome   83.149.9.216   \n",
       "1                                        Chrome   83.149.9.216   \n",
       "2                                        Chrome   83.149.9.216   \n",
       "...                                         ...            ...   \n",
       "9983                                  Googlebot  66.249.73.135   \n",
       "9984                                    Firefox    180.76.6.56   \n",
       "9985                                      Other   46.105.14.53   \n",
       "\n",
       "     time_received_isoformat country  \n",
       "0        2015-05-17T10:05:03      RU  \n",
       "1        2015-05-17T10:05:43      RU  \n",
       "2        2015-05-17T10:05:47      RU  \n",
       "...                      ...     ...  \n",
       "9983     2015-05-20T21:05:00      US  \n",
       "9984     2015-05-20T21:05:56      CN  \n",
       "9985     2015-05-20T21:05:15      FR  \n",
       "\n",
       "[9986 rows x 4 columns]"
      ]
     },
     "metadata": {},
     "output_type": "display_data"
    }
   ],
   "source": [
    "# Define a IP to country map\n",
    "import pygeoip\n",
    "\n",
    "\n",
    "def to_country(ip):\n",
    "    geo_ip = pygeoip.GeoIP('GeoIP.dat')\n",
    "    return geo_ip.country_code_by_addr(ip)\n",
    "\n",
    "\n",
    "# Convert to a local frame; only selective columns\n",
    "# Map the IP to a country from where the client is browsing\n",
    "browser_frame = log_lines_df.select(\n",
    "    'request_header_user_agent__browser__family', 'remote_host',\n",
    "    'time_received_isoformat').withColumn(\n",
    "        'country', F.udf(to_country)(F.col('remote_host'))).toPandas()\n",
    "\n",
    "# Display the preview\n",
    "pd_display(browser_frame, 'Timed traffic to the website')"
   ]
  },
  {
   "cell_type": "markdown",
   "metadata": {},
   "source": [
    "Normalize to a local time"
   ]
  },
  {
   "cell_type": "code",
   "execution_count": 5,
   "metadata": {
    "collapsed": false
   },
   "outputs": [
    {
     "data": {
      "text/html": [
       "<h4>Timed index normalized to local timezone</h4>"
      ],
      "text/plain": [
       "<IPython.core.display.HTML object>"
      ]
     },
     "metadata": {},
     "output_type": "display_data"
    },
    {
     "data": {
      "text/html": [
       "<div>\n",
       "<table border=\"1\" class=\"dataframe\">\n",
       "  <thead>\n",
       "    <tr style=\"text-align: right;\">\n",
       "      <th></th>\n",
       "      <th>request_header_user_agent__browser__family</th>\n",
       "      <th>remote_host</th>\n",
       "      <th>time_received_isoformat</th>\n",
       "      <th>country</th>\n",
       "      <th>local_time</th>\n",
       "    </tr>\n",
       "    <tr>\n",
       "      <th>local_time</th>\n",
       "      <th></th>\n",
       "      <th></th>\n",
       "      <th></th>\n",
       "      <th></th>\n",
       "      <th></th>\n",
       "    </tr>\n",
       "  </thead>\n",
       "  <tbody>\n",
       "    <tr>\n",
       "      <th>2015-05-17 02:05:02.999989</th>\n",
       "      <td>Chrome</td>\n",
       "      <td>83.149.9.216</td>\n",
       "      <td>2015-05-17T10:05:03</td>\n",
       "      <td>RU</td>\n",
       "      <td>2015-05-17 02:05:02.999989</td>\n",
       "    </tr>\n",
       "    <tr>\n",
       "      <th>2015-05-17 02:05:42.999989</th>\n",
       "      <td>Chrome</td>\n",
       "      <td>83.149.9.216</td>\n",
       "      <td>2015-05-17T10:05:43</td>\n",
       "      <td>RU</td>\n",
       "      <td>2015-05-17 02:05:42.999989</td>\n",
       "    </tr>\n",
       "    <tr>\n",
       "      <th>2015-05-17 02:05:46.999989</th>\n",
       "      <td>Chrome</td>\n",
       "      <td>83.149.9.216</td>\n",
       "      <td>2015-05-17T10:05:47</td>\n",
       "      <td>RU</td>\n",
       "      <td>2015-05-17 02:05:46.999989</td>\n",
       "    </tr>\n",
       "    <tr>\n",
       "      <th>...</th>\n",
       "      <td>...</td>\n",
       "      <td>...</td>\n",
       "      <td>...</td>\n",
       "      <td>...</td>\n",
       "      <td>...</td>\n",
       "    </tr>\n",
       "    <tr>\n",
       "      <th>2015-05-20 13:04:59.999989</th>\n",
       "      <td>Googlebot</td>\n",
       "      <td>66.249.73.135</td>\n",
       "      <td>2015-05-20T21:05:00</td>\n",
       "      <td>US</td>\n",
       "      <td>2015-05-20 13:04:59.999989</td>\n",
       "    </tr>\n",
       "    <tr>\n",
       "      <th>2015-05-20 13:05:55.999989</th>\n",
       "      <td>Firefox</td>\n",
       "      <td>180.76.6.56</td>\n",
       "      <td>2015-05-20T21:05:56</td>\n",
       "      <td>CN</td>\n",
       "      <td>2015-05-20 13:05:55.999989</td>\n",
       "    </tr>\n",
       "    <tr>\n",
       "      <th>2015-05-20 13:05:14.999989</th>\n",
       "      <td>Other</td>\n",
       "      <td>46.105.14.53</td>\n",
       "      <td>2015-05-20T21:05:15</td>\n",
       "      <td>FR</td>\n",
       "      <td>2015-05-20 13:05:14.999989</td>\n",
       "    </tr>\n",
       "  </tbody>\n",
       "</table>\n",
       "<p>9986 rows × 5 columns</p>\n",
       "</div>"
      ],
      "text/plain": [
       "                           request_header_user_agent__browser__family  \\\n",
       "local_time                                                              \n",
       "2015-05-17 02:05:02.999989                                     Chrome   \n",
       "2015-05-17 02:05:42.999989                                     Chrome   \n",
       "2015-05-17 02:05:46.999989                                     Chrome   \n",
       "...                                                               ...   \n",
       "2015-05-20 13:04:59.999989                                  Googlebot   \n",
       "2015-05-20 13:05:55.999989                                    Firefox   \n",
       "2015-05-20 13:05:14.999989                                      Other   \n",
       "\n",
       "                              remote_host time_received_isoformat country  \\\n",
       "local_time                                                                  \n",
       "2015-05-17 02:05:02.999989   83.149.9.216     2015-05-17T10:05:03      RU   \n",
       "2015-05-17 02:05:42.999989   83.149.9.216     2015-05-17T10:05:43      RU   \n",
       "2015-05-17 02:05:46.999989   83.149.9.216     2015-05-17T10:05:47      RU   \n",
       "...                                   ...                     ...     ...   \n",
       "2015-05-20 13:04:59.999989  66.249.73.135     2015-05-20T21:05:00      US   \n",
       "2015-05-20 13:05:55.999989    180.76.6.56     2015-05-20T21:05:56      CN   \n",
       "2015-05-20 13:05:14.999989   46.105.14.53     2015-05-20T21:05:15      FR   \n",
       "\n",
       "                                           local_time  \n",
       "local_time                                             \n",
       "2015-05-17 02:05:02.999989 2015-05-17 02:05:02.999989  \n",
       "2015-05-17 02:05:42.999989 2015-05-17 02:05:42.999989  \n",
       "2015-05-17 02:05:46.999989 2015-05-17 02:05:46.999989  \n",
       "...                                               ...  \n",
       "2015-05-20 13:04:59.999989 2015-05-20 13:04:59.999989  \n",
       "2015-05-20 13:05:55.999989 2015-05-20 13:05:55.999989  \n",
       "2015-05-20 13:05:14.999989 2015-05-20 13:05:14.999989  \n",
       "\n",
       "[9986 rows x 5 columns]"
      ]
     },
     "metadata": {},
     "output_type": "display_data"
    }
   ],
   "source": [
    "%matplotlib inline\n",
    "\n",
    "from datetime import datetime\n",
    "\n",
    "# The current browser time is in UTC time zone. Let us normalize that to current time\n",
    "offset = datetime.now() - datetime.utcnow()  # Find offset first\n",
    "\n",
    "# project the ISO time column to a local time column\n",
    "browser_frame['local_time'] = browser_frame['time_received_isoformat'].apply(\n",
    "    lambda x: pd.to_datetime(x) + pd.to_timedelta(offset, unit='s'))\n",
    "\n",
    "# Offset the recorded time to local time zone and reindex the series\n",
    "# Make the time axis labels pretty\n",
    "browser_frame.set_index(pd.DatetimeIndex(browser_frame.local_time), inplace=True)\n",
    "\n",
    "pd_display(browser_frame, 'Timed index normalized to local timezone')"
   ]
  },
  {
   "cell_type": "markdown",
   "metadata": {},
   "source": [
    "## How does the browser patterns behave?\n",
    "\n",
    "Cumulate count of browsers, countries-of-origin on a 4 hour basis and plot"
   ]
  },
  {
   "cell_type": "code",
   "execution_count": 6,
   "metadata": {
    "collapsed": false
   },
   "outputs": [
    {
     "data": {
      "text/html": [
       "<h4>Browser counts along time</h4>"
      ],
      "text/plain": [
       "<IPython.core.display.HTML object>"
      ]
     },
     "metadata": {},
     "output_type": "display_data"
    },
    {
     "data": {
      "text/html": [
       "<div>\n",
       "<table border=\"1\" class=\"dataframe\">\n",
       "  <thead>\n",
       "    <tr style=\"text-align: right;\">\n",
       "      <th>request_header_user_agent__browser__family</th>\n",
       "      <th>360Spider</th>\n",
       "      <th>AOL</th>\n",
       "      <th>AhrefsBot</th>\n",
       "      <th>Amazon Silk</th>\n",
       "      <th>...</th>\n",
       "      <th>msnbot</th>\n",
       "      <th>msnbot-media</th>\n",
       "      <th>psbot</th>\n",
       "      <th>robot</th>\n",
       "    </tr>\n",
       "    <tr>\n",
       "      <th>local_time</th>\n",
       "      <th></th>\n",
       "      <th></th>\n",
       "      <th></th>\n",
       "      <th></th>\n",
       "      <th></th>\n",
       "      <th></th>\n",
       "      <th></th>\n",
       "      <th></th>\n",
       "      <th></th>\n",
       "    </tr>\n",
       "  </thead>\n",
       "  <tbody>\n",
       "    <tr>\n",
       "      <th>2015-05-17 00:00:00</th>\n",
       "      <td>0.0</td>\n",
       "      <td>0.0</td>\n",
       "      <td>0.0</td>\n",
       "      <td>0.0</td>\n",
       "      <td>...</td>\n",
       "      <td>0.0</td>\n",
       "      <td>0.0</td>\n",
       "      <td>0.0</td>\n",
       "      <td>1.0</td>\n",
       "    </tr>\n",
       "    <tr>\n",
       "      <th>2015-05-17 04:00:00</th>\n",
       "      <td>0.0</td>\n",
       "      <td>0.0</td>\n",
       "      <td>0.0</td>\n",
       "      <td>7.0</td>\n",
       "      <td>...</td>\n",
       "      <td>92.0</td>\n",
       "      <td>0.0</td>\n",
       "      <td>5.0</td>\n",
       "      <td>2.0</td>\n",
       "    </tr>\n",
       "    <tr>\n",
       "      <th>2015-05-17 08:00:00</th>\n",
       "      <td>0.0</td>\n",
       "      <td>0.0</td>\n",
       "      <td>0.0</td>\n",
       "      <td>5.0</td>\n",
       "      <td>...</td>\n",
       "      <td>0.0</td>\n",
       "      <td>0.0</td>\n",
       "      <td>0.0</td>\n",
       "      <td>1.0</td>\n",
       "    </tr>\n",
       "    <tr>\n",
       "      <th>...</th>\n",
       "      <td>...</td>\n",
       "      <td>...</td>\n",
       "      <td>...</td>\n",
       "      <td>...</td>\n",
       "      <td>...</td>\n",
       "      <td>...</td>\n",
       "      <td>...</td>\n",
       "      <td>...</td>\n",
       "      <td>...</td>\n",
       "    </tr>\n",
       "    <tr>\n",
       "      <th>2015-05-20 04:00:00</th>\n",
       "      <td>0.0</td>\n",
       "      <td>0.0</td>\n",
       "      <td>14.0</td>\n",
       "      <td>0.0</td>\n",
       "      <td>...</td>\n",
       "      <td>0.0</td>\n",
       "      <td>0.0</td>\n",
       "      <td>0.0</td>\n",
       "      <td>3.0</td>\n",
       "    </tr>\n",
       "    <tr>\n",
       "      <th>2015-05-20 08:00:00</th>\n",
       "      <td>0.0</td>\n",
       "      <td>0.0</td>\n",
       "      <td>14.0</td>\n",
       "      <td>0.0</td>\n",
       "      <td>...</td>\n",
       "      <td>0.0</td>\n",
       "      <td>0.0</td>\n",
       "      <td>0.0</td>\n",
       "      <td>2.0</td>\n",
       "    </tr>\n",
       "    <tr>\n",
       "      <th>2015-05-20 12:00:00</th>\n",
       "      <td>0.0</td>\n",
       "      <td>0.0</td>\n",
       "      <td>6.0</td>\n",
       "      <td>0.0</td>\n",
       "      <td>...</td>\n",
       "      <td>0.0</td>\n",
       "      <td>0.0</td>\n",
       "      <td>0.0</td>\n",
       "      <td>1.0</td>\n",
       "    </tr>\n",
       "  </tbody>\n",
       "</table>\n",
       "<p>22 rows × 86 columns</p>\n",
       "</div>"
      ],
      "text/plain": [
       "request_header_user_agent__browser__family  360Spider  AOL  AhrefsBot  \\\n",
       "local_time                                                              \n",
       "2015-05-17 00:00:00                               0.0  0.0        0.0   \n",
       "2015-05-17 04:00:00                               0.0  0.0        0.0   \n",
       "2015-05-17 08:00:00                               0.0  0.0        0.0   \n",
       "...                                               ...  ...        ...   \n",
       "2015-05-20 04:00:00                               0.0  0.0       14.0   \n",
       "2015-05-20 08:00:00                               0.0  0.0       14.0   \n",
       "2015-05-20 12:00:00                               0.0  0.0        6.0   \n",
       "\n",
       "request_header_user_agent__browser__family  Amazon Silk  ...    msnbot  \\\n",
       "local_time                                               ...             \n",
       "2015-05-17 00:00:00                                 0.0  ...       0.0   \n",
       "2015-05-17 04:00:00                                 7.0  ...      92.0   \n",
       "2015-05-17 08:00:00                                 5.0  ...       0.0   \n",
       "...                                                 ...  ...       ...   \n",
       "2015-05-20 04:00:00                                 0.0  ...       0.0   \n",
       "2015-05-20 08:00:00                                 0.0  ...       0.0   \n",
       "2015-05-20 12:00:00                                 0.0  ...       0.0   \n",
       "\n",
       "request_header_user_agent__browser__family  msnbot-media  psbot  robot  \n",
       "local_time                                                              \n",
       "2015-05-17 00:00:00                                  0.0    0.0    1.0  \n",
       "2015-05-17 04:00:00                                  0.0    5.0    2.0  \n",
       "2015-05-17 08:00:00                                  0.0    0.0    1.0  \n",
       "...                                                  ...    ...    ...  \n",
       "2015-05-20 04:00:00                                  0.0    0.0    3.0  \n",
       "2015-05-20 08:00:00                                  0.0    0.0    2.0  \n",
       "2015-05-20 12:00:00                                  0.0    0.0    1.0  \n",
       "\n",
       "[22 rows x 86 columns]"
      ]
     },
     "metadata": {},
     "output_type": "display_data"
    },
    {
     "data": {
      "text/html": [
       "<h4>Country counts along time</h4>"
      ],
      "text/plain": [
       "<IPython.core.display.HTML object>"
      ]
     },
     "metadata": {},
     "output_type": "display_data"
    },
    {
     "data": {
      "text/html": [
       "<div>\n",
       "<table border=\"1\" class=\"dataframe\">\n",
       "  <thead>\n",
       "    <tr style=\"text-align: right;\">\n",
       "      <th>country</th>\n",
       "      <th>AE</th>\n",
       "      <th>AR</th>\n",
       "      <th>AT</th>\n",
       "      <th>AU</th>\n",
       "      <th>...</th>\n",
       "      <th>US</th>\n",
       "      <th>VE</th>\n",
       "      <th>VN</th>\n",
       "      <th>ZA</th>\n",
       "    </tr>\n",
       "    <tr>\n",
       "      <th>local_time</th>\n",
       "      <th></th>\n",
       "      <th></th>\n",
       "      <th></th>\n",
       "      <th></th>\n",
       "      <th></th>\n",
       "      <th></th>\n",
       "      <th></th>\n",
       "      <th></th>\n",
       "      <th></th>\n",
       "    </tr>\n",
       "  </thead>\n",
       "  <tbody>\n",
       "    <tr>\n",
       "      <th>2015-05-17 00:00:00</th>\n",
       "      <td>0.0</td>\n",
       "      <td>0.0</td>\n",
       "      <td>0.0</td>\n",
       "      <td>0.0</td>\n",
       "      <td>...</td>\n",
       "      <td>78.0</td>\n",
       "      <td>0.0</td>\n",
       "      <td>0.0</td>\n",
       "      <td>0.0</td>\n",
       "    </tr>\n",
       "    <tr>\n",
       "      <th>2015-05-17 04:00:00</th>\n",
       "      <td>0.0</td>\n",
       "      <td>0.0</td>\n",
       "      <td>4.0</td>\n",
       "      <td>0.0</td>\n",
       "      <td>...</td>\n",
       "      <td>227.0</td>\n",
       "      <td>0.0</td>\n",
       "      <td>0.0</td>\n",
       "      <td>0.0</td>\n",
       "    </tr>\n",
       "    <tr>\n",
       "      <th>2015-05-17 08:00:00</th>\n",
       "      <td>0.0</td>\n",
       "      <td>0.0</td>\n",
       "      <td>1.0</td>\n",
       "      <td>0.0</td>\n",
       "      <td>...</td>\n",
       "      <td>236.0</td>\n",
       "      <td>2.0</td>\n",
       "      <td>0.0</td>\n",
       "      <td>0.0</td>\n",
       "    </tr>\n",
       "    <tr>\n",
       "      <th>...</th>\n",
       "      <td>...</td>\n",
       "      <td>...</td>\n",
       "      <td>...</td>\n",
       "      <td>...</td>\n",
       "      <td>...</td>\n",
       "      <td>...</td>\n",
       "      <td>...</td>\n",
       "      <td>...</td>\n",
       "      <td>...</td>\n",
       "    </tr>\n",
       "    <tr>\n",
       "      <th>2015-05-20 04:00:00</th>\n",
       "      <td>0.0</td>\n",
       "      <td>1.0</td>\n",
       "      <td>3.0</td>\n",
       "      <td>0.0</td>\n",
       "      <td>...</td>\n",
       "      <td>220.0</td>\n",
       "      <td>6.0</td>\n",
       "      <td>0.0</td>\n",
       "      <td>2.0</td>\n",
       "    </tr>\n",
       "    <tr>\n",
       "      <th>2015-05-20 08:00:00</th>\n",
       "      <td>0.0</td>\n",
       "      <td>0.0</td>\n",
       "      <td>1.0</td>\n",
       "      <td>0.0</td>\n",
       "      <td>...</td>\n",
       "      <td>264.0</td>\n",
       "      <td>0.0</td>\n",
       "      <td>0.0</td>\n",
       "      <td>0.0</td>\n",
       "    </tr>\n",
       "    <tr>\n",
       "      <th>2015-05-20 12:00:00</th>\n",
       "      <td>0.0</td>\n",
       "      <td>0.0</td>\n",
       "      <td>0.0</td>\n",
       "      <td>0.0</td>\n",
       "      <td>...</td>\n",
       "      <td>98.0</td>\n",
       "      <td>0.0</td>\n",
       "      <td>0.0</td>\n",
       "      <td>0.0</td>\n",
       "    </tr>\n",
       "  </tbody>\n",
       "</table>\n",
       "<p>22 rows × 95 columns</p>\n",
       "</div>"
      ],
      "text/plain": [
       "country               AE   AR   AT   AU ...      US   VE   VN   ZA\n",
       "local_time                              ...                       \n",
       "2015-05-17 00:00:00  0.0  0.0  0.0  0.0 ...    78.0  0.0  0.0  0.0\n",
       "2015-05-17 04:00:00  0.0  0.0  4.0  0.0 ...   227.0  0.0  0.0  0.0\n",
       "2015-05-17 08:00:00  0.0  0.0  1.0  0.0 ...   236.0  2.0  0.0  0.0\n",
       "...                  ...  ...  ...  ... ...     ...  ...  ...  ...\n",
       "2015-05-20 04:00:00  0.0  1.0  3.0  0.0 ...   220.0  6.0  0.0  2.0\n",
       "2015-05-20 08:00:00  0.0  0.0  1.0  0.0 ...   264.0  0.0  0.0  0.0\n",
       "2015-05-20 12:00:00  0.0  0.0  0.0  0.0 ...    98.0  0.0  0.0  0.0\n",
       "\n",
       "[22 rows x 95 columns]"
      ]
     },
     "metadata": {},
     "output_type": "display_data"
    }
   ],
   "source": [
    "# Pivot first so all status codes become columns\n",
    "# Similarly pivot by countries too\n",
    "def group_count(df, feature, resample='4H'):\n",
    "    return df.groupby([pd.TimeGrouper(resample), feature])[feature].count().unstack(feature).fillna(0)\n",
    "\n",
    "# Create a shortcut macro\n",
    "counts = lambda feature: group_count(browser_frame, feature)\n",
    "\n",
    "# Compute and show a count of browsers\n",
    "browsers = counts('request_header_user_agent__browser__family')\n",
    "\n",
    "# Show\n",
    "pd_display(browsers, \"Browser counts along time\")\n",
    "\n",
    "# Compute and show countries of origin by the hour\n",
    "countries = counts('country')\n",
    "\n",
    "# Show \n",
    "pd_display(countries, \"Country counts along time\")"
   ]
  },
  {
   "cell_type": "markdown",
   "metadata": {},
   "source": [
    "## Visualize\n",
    "\n",
    "Let us visualize the browser and country counts.\n",
    "\n",
    "### First, browser dist plots\n",
    "\n",
    "Let us plot histograms/heatmap of browsers and peak traffic times first."
   ]
  },
  {
   "cell_type": "code",
   "execution_count": 7,
   "metadata": {
    "collapsed": false
   },
   "outputs": [
    {
     "data": {
      "image/png": "[encoded data removed]",
      "text/plain": [
       "<matplotlib.figure.Figure at 0x114d220d0>"
      ]
     },
     "metadata": {},
     "output_type": "display_data"
    }
   ],
   "source": [
    "# Plot the time series chart\n",
    "# We will add counts in integer form, so project everything as int\n",
    "chart_data = browsers[['IE', 'Chrome', 'Safari', 'Firefox', 'Opera', 'Android']].astype(int)\n",
    "\n",
    "# Make the time axis labels pretty\n",
    "from matplotlib.dates import IndexDateFormatter, DateFormatter\n",
    "from datetime import datetime\n",
    "fmt = DateFormatter('%m-%d %H:%M, %a')\n",
    "chart_data['Time'] = chart_data.index\n",
    "\n",
    "# Format X axis in a friendly format\n",
    "from matplotlib.dates import IndexDateFormatter, DateFormatter\n",
    "fmt = DateFormatter('%m-%d %H:%M, %a')\n",
    "chart_data['Time'] = chart_data['Time'].apply(lambda x: fmt.strftime(x))\n",
    "chart_data.set_index('Time', inplace=True)\n",
    "\n",
    "# ============================\n",
    "# Create a figure\n",
    "fig, ax = plt.subplots(2, 1, figsize=(20,10))\n",
    "sns.set_style(\"whitegrid\")\n",
    "\n",
    "# Plot the bar chart\n",
    "chart_data.plot(kind='bar', ax=ax[0])\n",
    "\n",
    "# Plot the heatmap on the same axis\n",
    "sns.heatmap(chart_data.T, annot=True, fmt=\"d\", ax=ax[1], cbar=False)\n",
    "ax[1].set(xlabel='Time', ylabel='Browser')\n",
    "fig.autofmt_xdate()"
   ]
  },
  {
   "cell_type": "markdown",
   "metadata": {},
   "source": [
    "### Traffic geo density\n",
    "\n",
    "Let us also plot a geomap of where the client traffic is emanating from. Presumably, it varies over time. Since we have a moving window, let us use a interactive wizard for user to select a specific window of time when this responsive heatmap is desired."
   ]
  },
  {
   "cell_type": "code",
   "execution_count": 8,
   "metadata": {
    "collapsed": true
   },
   "outputs": [],
   "source": [
    "# First let us geocode the country centers\n",
    "from geopy.geocoders import Nominatim\n",
    "geo_locator = Nominatim()\n",
    "\n",
    "def get_latlng(ctry):\n",
    "    result = geo_locator.geocode(ctry)\n",
    "    (lat, lon) = (result[1][0], result[1][1]) if result else (0, 0)\n",
    "    return (lat, lon)\n",
    "\n",
    "# Make a dataframe with country short codes and lat/long codes\n",
    "countries_data = pd.DataFrame(countries.columns.values, columns=['countries'])\n",
    "countries_data['latlng'] = countries_data.countries.apply(lambda ctry: get_latlng(ctry))\n",
    "countries_data['latitudes'] = countries_data['latlng'].apply(lambda x: float(x[0]))\n",
    "countries_data['longitudes'] = countries_data['latlng'].apply(lambda x: float(x[1]))\n",
    "# Save this data for future time-lapsed heatmap plots\n",
    "countries_data.set_index('countries', inplace=True)"
   ]
  },
  {
   "cell_type": "markdown",
   "metadata": {},
   "source": [
    "#### Based on a user selection, generate a responsive map"
   ]
  },
  {
   "cell_type": "code",
   "execution_count": 9,
   "metadata": {
    "collapsed": false
   },
   "outputs": [
    {
     "data": {
      "text/html": [
       "<h4>Heatmap at 05-18 20:00, Mon</h4>"
      ],
      "text/plain": [
       "<IPython.core.display.HTML object>"
      ]
     },
     "metadata": {},
     "output_type": "display_data"
    },
    {
     "data": {
      "text/html": [
       "<div style=\"width:100%;\"><div style=\"position:relative;width:100%;height:0;padding-bottom:60%;\"><iframe src=\"data:text/html;base64,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\" style=\"position:absolute;width:100%;height:100%;left:0;top:0;\"></iframe></div></div>"
      ],
      "text/plain": [
       "<folium.folium.Map at 0x1176ab790>"
      ]
     },
     "metadata": {},
     "output_type": "display_data"
    },
    {
     "data": {
      "text/plain": [
       "<function __main__.plot_traffic>"
      ]
     },
     "metadata": {},
     "output_type": "display_data"
    }
   ],
   "source": [
    "# To make the geo map interactive so users can select a time, create a interactive drop-down wizard\n",
    "# Make a map\n",
    "import folium\n",
    "import folium.plugins as plugins\n",
    "\n",
    "# The following widgets allow for interactively progressing a time-lapse window and studying the heatmap\n",
    "from IPython.html.widgets import interact\n",
    "from IPython.html import widgets\n",
    "from folium.plugins import HeatMap\n",
    "\n",
    "\n",
    "# At a give chosen time, plot a heatmap of countries where clients are\n",
    "def plot_traffic(Time):\n",
    "    x = list(countries.index.values)[Time]\n",
    "    \n",
    "    # First print the time back so users have better since of the observation window\n",
    "    display(\n",
    "        HTML(\"<h4>Heatmap at {0}</h4>\".format(\n",
    "            fmt.strftime(pd.to_datetime(str(x))))))\n",
    "\n",
    "    # Select frequencies at the user-chosen time and join with lat-long intelligence\n",
    "    ctry = countries[countries.index == x].T.join(countries_data)\n",
    "    ctry.rename(columns={ctry.columns[0]: 'timeval'}, inplace=True)\n",
    "\n",
    "    #Now we have lat, long, and freq of country information for the hour in a singular row\n",
    "    ctry = ctry[ctry[ctry.columns[0]] > 0]\n",
    "\n",
    "    # Make a brand new map. I wish we could re use the prior map. TODO\n",
    "    countries_map = folium.Map(location=[\n",
    "        countries_data['latitudes'].mean(), countries_data['longitudes'].mean()\n",
    "    ], zoom_start=2)  # Always zoom out to the world\n",
    "    \n",
    "    # Make a group layer\n",
    "    feature_group = folium.FeatureGroup(name=str(x))\n",
    "    \n",
    "    # Make a heatmap\n",
    "    heatmap = folium.plugins.HeatMap(\n",
    "        ctry[['latitudes', 'longitudes', 'timeval']].values, radius=15)\n",
    "\n",
    "    # Add the heatmap to the world\n",
    "    feature_group.add_children(heatmap)\n",
    "    countries_map.add_children(feature_group)\n",
    "\n",
    "    # return the map to paint on the canvas\n",
    "    return countries_map\n",
    "\n",
    "\n",
    "# Display an interactive slider for user to choose a time when the heatmap is to be visualized\n",
    "# Place the slider to the middle of the ibservation window\n",
    "display(\n",
    "    interact(\n",
    "        plot_traffic,\n",
    "        Time=widgets.IntSlider(\n",
    "            value=len(countries.index.values)/2, min=0, max=len(countries.index.values))));"
   ]
  },
  {
   "cell_type": "markdown",
   "metadata": {},
   "source": [
    "## Findings\n",
    "\n",
    "1. We find the activity peaks in the evening (PST) versus midnight, midday, or dawn\n",
    "2. It is a very short window but it looks like Tuesday seems like a peak day for business\n",
    "3. Chrome and Firefox seem to be the eminent browsers.\n",
    "4. Majority of the traffic, at least in specific observed windows, seems to come mostly from European countries.\n",
    "5. There are clients of ~90 countries that visited the website during the 3 day observation window.\n",
    "\n",
    "# Conclusions\n",
    "\n",
    "Though this is a simple BI dashboard, it goes to demonstrate how easy it is to build operational intelligence into your business systems so you are not caught off-guard when business metrics start to spike-up or trend-down. While this isn't preemptive intelligence, it surely paves way for proactive intelligence."
   ]
  }
 ],
 "metadata": {
  "anaconda-cloud": {},
  "hide_input": false,
  "kernelspec": {
   "display_name": "Python [Root]",
   "language": "python",
   "name": "Python [Root]"
  },
  "language_info": {
   "codemirror_mode": {
    "name": "ipython",
    "version": 2
   },
   "file_extension": ".py",
   "mimetype": "text/x-python",
   "name": "python",
   "nbconvert_exporter": "python",
   "pygments_lexer": "ipython2",
   "version": "2.7.13"
  },
  "widgets": {
   "state": {
    "83e0e57a5df8469ebc982a2a82a14b34": {
     "views": [
      {
       "cell_index": 18
      }
     ]
    }
   },
   "version": "1.2.0"
  }
 },
 "nbformat": 4,
 "nbformat_minor": 0
}
