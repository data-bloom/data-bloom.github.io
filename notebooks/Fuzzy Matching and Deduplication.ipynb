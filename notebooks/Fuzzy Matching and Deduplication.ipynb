{
 "cells": [
  {
   "cell_type": "markdown",
   "metadata": {
    "collapsed": false
   },
   "source": [
    "# Fuzzy Matching\n",
    "\n",
    "Every enterprise has data. And that data is not always complete, specific, or compliant to a standard. Raw data is collected in the data lake, but recurrent mistakes happen. Periodically, we need to curate the lake by matching raw data, avoiding duplicates, and linking records to a master standard.\n",
    "\n",
    "For example, restaurant data at http://www.cs.utexas.edu/users/ml/riddle/data.html from two different sources, have duplicates. But since the two record-sets come from two different vendors, we have the responsibility to remove the duplicates."
   ]
  },
  {
   "cell_type": "markdown",
   "metadata": {},
   "source": [
    "## Data\n",
    "\n",
    "The input data is in ARFF (Weka) format. The data is from two vendors -- Zagat and Fodor -- but merged into a single file."
   ]
  },
  {
   "cell_type": "code",
   "execution_count": 8,
   "metadata": {
    "collapsed": false
   },
   "outputs": [
    {
     "data": {
      "text/html": [
       "<div>\n",
       "<table border=\"1\" class=\"dataframe\">\n",
       "  <thead>\n",
       "    <tr style=\"text-align: right;\">\n",
       "      <th></th>\n",
       "      <th>name</th>\n",
       "      <th>addr</th>\n",
       "      <th>city</th>\n",
       "      <th>phone</th>\n",
       "      <th>type</th>\n",
       "    </tr>\n",
       "  </thead>\n",
       "  <tbody>\n",
       "    <tr>\n",
       "      <th>0</th>\n",
       "      <td>arnie morton's of chicago</td>\n",
       "      <td>435 s. la cienega blv.</td>\n",
       "      <td>los angeles</td>\n",
       "      <td>310/246-1501</td>\n",
       "      <td>american</td>\n",
       "    </tr>\n",
       "    <tr>\n",
       "      <th>1</th>\n",
       "      <td>arnie morton's of chicago</td>\n",
       "      <td>435 s. la cienega blvd.</td>\n",
       "      <td>los angeles</td>\n",
       "      <td>310-246-1501</td>\n",
       "      <td>steakhouses</td>\n",
       "    </tr>\n",
       "    <tr>\n",
       "      <th>2</th>\n",
       "      <td>art's delicatessen</td>\n",
       "      <td>12224 ventura blvd.</td>\n",
       "      <td>studio city</td>\n",
       "      <td>818/762-1221</td>\n",
       "      <td>american</td>\n",
       "    </tr>\n",
       "    <tr>\n",
       "      <th>3</th>\n",
       "      <td>art's deli</td>\n",
       "      <td>12224 ventura blvd.</td>\n",
       "      <td>studio city</td>\n",
       "      <td>818-762-1221</td>\n",
       "      <td>delis</td>\n",
       "    </tr>\n",
       "    <tr>\n",
       "      <th>4</th>\n",
       "      <td>hotel bel-air</td>\n",
       "      <td>701 stone canyon rd.</td>\n",
       "      <td>bel air</td>\n",
       "      <td>310/472-1211</td>\n",
       "      <td>californian</td>\n",
       "    </tr>\n",
       "    <tr>\n",
       "      <th>...</th>\n",
       "      <td>...</td>\n",
       "      <td>...</td>\n",
       "      <td>...</td>\n",
       "      <td>...</td>\n",
       "      <td>...</td>\n",
       "    </tr>\n",
       "    <tr>\n",
       "      <th>859</th>\n",
       "      <td>ti couz</td>\n",
       "      <td>3108 16th st.</td>\n",
       "      <td>san francisco</td>\n",
       "      <td>415-252-7373</td>\n",
       "      <td>french</td>\n",
       "    </tr>\n",
       "    <tr>\n",
       "      <th>860</th>\n",
       "      <td>trio cafe</td>\n",
       "      <td>1870 fillmore st.</td>\n",
       "      <td>san francisco</td>\n",
       "      <td>415-563-2248</td>\n",
       "      <td>american</td>\n",
       "    </tr>\n",
       "    <tr>\n",
       "      <th>861</th>\n",
       "      <td>tu lan</td>\n",
       "      <td>8 sixth st.</td>\n",
       "      <td>san francisco</td>\n",
       "      <td>415-626-0927</td>\n",
       "      <td>vietnamese</td>\n",
       "    </tr>\n",
       "    <tr>\n",
       "      <th>862</th>\n",
       "      <td>vicolo pizzeria</td>\n",
       "      <td>201 ivy st.</td>\n",
       "      <td>san francisco</td>\n",
       "      <td>415-863-2382</td>\n",
       "      <td>pizza</td>\n",
       "    </tr>\n",
       "    <tr>\n",
       "      <th>863</th>\n",
       "      <td>wa-ha-ka oaxaca mexican grill</td>\n",
       "      <td>2141 polk st.</td>\n",
       "      <td>san francisco</td>\n",
       "      <td>415-775-1055</td>\n",
       "      <td>mexican</td>\n",
       "    </tr>\n",
       "  </tbody>\n",
       "</table>\n",
       "<p>864 rows × 5 columns</p>\n",
       "</div>"
      ],
      "text/plain": [
       "                              name                     addr           city  \\\n",
       "0        arnie morton's of chicago   435 s. la cienega blv.    los angeles   \n",
       "1        arnie morton's of chicago  435 s. la cienega blvd.    los angeles   \n",
       "2               art's delicatessen      12224 ventura blvd.    studio city   \n",
       "3                       art's deli      12224 ventura blvd.    studio city   \n",
       "4                    hotel bel-air     701 stone canyon rd.        bel air   \n",
       "..                             ...                      ...            ...   \n",
       "859                        ti couz            3108 16th st.  san francisco   \n",
       "860                      trio cafe        1870 fillmore st.  san francisco   \n",
       "861                         tu lan              8 sixth st.  san francisco   \n",
       "862                vicolo pizzeria              201 ivy st.  san francisco   \n",
       "863  wa-ha-ka oaxaca mexican grill            2141 polk st.  san francisco   \n",
       "\n",
       "            phone         type  \n",
       "0    310/246-1501     american  \n",
       "1    310-246-1501  steakhouses  \n",
       "2    818/762-1221     american  \n",
       "3    818-762-1221        delis  \n",
       "4    310/472-1211  californian  \n",
       "..            ...          ...  \n",
       "859  415-252-7373       french  \n",
       "860  415-563-2248     american  \n",
       "861  415-626-0927   vietnamese  \n",
       "862  415-863-2382        pizza  \n",
       "863  415-775-1055      mexican  \n",
       "\n",
       "[864 rows x 5 columns]"
      ]
     },
     "metadata": {},
     "output_type": "display_data"
    }
   ],
   "source": [
    "# Read ARFF data\n",
    "import arff\n",
    "\n",
    "zf_data = arff.load(open('fz.arff', 'rb'))\n",
    "\n",
    "# Read ARFF as Pandas frame\n",
    "zf_pd = pd.DataFrame.from_records(zf_data['data'], columns=map(lambda x: x[0], zf_data['attributes'])).drop('class', axis=1)\n",
    "\n",
    "# Display Data\n",
    "display(zf_pd)"
   ]
  },
  {
   "cell_type": "code",
   "execution_count": null,
   "metadata": {
    "collapsed": true
   },
   "outputs": [],
   "source": []
  }
 ],
 "metadata": {
  "kernelspec": {
   "display_name": "Python [Root]",
   "language": "python",
   "name": "Python [Root]"
  },
  "language_info": {
   "codemirror_mode": {
    "name": "ipython",
    "version": 2
   },
   "file_extension": ".py",
   "mimetype": "text/x-python",
   "name": "python",
   "nbconvert_exporter": "python",
   "pygments_lexer": "ipython2",
   "version": "2.7.13"
  }
 },
 "nbformat": 4,
 "nbformat_minor": 2
}
