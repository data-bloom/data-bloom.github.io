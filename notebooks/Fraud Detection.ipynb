{
 "cells": [
  {
   "cell_type": "markdown",
   "metadata": {},
   "source": [
    "# Fraud/Intrusion Detection\n",
    "\n",
    "Fraud detection is a novelty detection problem. Given many transactions that are seemingly \"normal\", when a new transaction that is significantly different (\"outlier\") from that pattern is detected, we want to flag that as a fraudulent transaction or undesired intrusion. If you do not build such anamolous activity intelligence into your operational hum, the harm may be realized too late in the process. Instead of retroactive correction measures, you want to build preventive guards around your operations. \n",
    "\n",
    "Underneath, we consider one simulated example of a network intrusion activity. We train the system to recognize normality from intrusion activity so the system can self-guard againt undesired instrusions. This use case is very similar to the guard rails that your credit card processor builds around flagging fraudulent activity in near realtime. Perhaps they also use rule-based expert systems besides the statistical models, but this provides a decent start.\n",
    "\n",
    "We will use multi-attribute dataset at https://archive.ics.uci.edu/ml/machine-learning-databases/kddcup99-mld/. The dataset in this case is flagging if a network activity is part of a normal business or if it is an anamolous/suspicious activity which is guessed based on parameters like port activity, packet lengths etc."
   ]
  },
  {
   "cell_type": "markdown",
   "metadata": {},
   "source": [
    "## Data\n",
    "\n",
    "Obtain the published dataset from the UCI website. The names and data are misaligned a little. Let us download and overlay correct feature semantics."
   ]
  },
  {
   "cell_type": "code",
   "execution_count": 1,
   "metadata": {
    "collapsed": false
   },
   "outputs": [
    {
     "data": {
      "text/html": [
       "<h4>Network metric samples under normal and anamolous/intrusion conditions</h4>"
      ],
      "text/plain": [
       "<IPython.core.display.HTML object>"
      ]
     },
     "metadata": {},
     "output_type": "display_data"
    },
    {
     "data": {
      "text/html": [
       "<div>\n",
       "<table border=\"1\" class=\"dataframe\">\n",
       "  <thead>\n",
       "    <tr style=\"text-align: right;\">\n",
       "      <th></th>\n",
       "      <th>protocol_type</th>\n",
       "      <th>service</th>\n",
       "      <th>flag</th>\n",
       "      <th>src_bytes</th>\n",
       "      <th>...</th>\n",
       "      <th>dst_host_srv_serror_rate</th>\n",
       "      <th>dst_host_rerror_rate</th>\n",
       "      <th>dst_host_srv_rerror_rate</th>\n",
       "      <th>is_attack</th>\n",
       "    </tr>\n",
       "  </thead>\n",
       "  <tbody>\n",
       "    <tr>\n",
       "      <th>0</th>\n",
       "      <td>tcp</td>\n",
       "      <td>http</td>\n",
       "      <td>SF</td>\n",
       "      <td>181</td>\n",
       "      <td>...</td>\n",
       "      <td>0.00</td>\n",
       "      <td>0.0</td>\n",
       "      <td>0.0</td>\n",
       "      <td>1</td>\n",
       "    </tr>\n",
       "    <tr>\n",
       "      <th>0</th>\n",
       "      <td>tcp</td>\n",
       "      <td>http</td>\n",
       "      <td>SF</td>\n",
       "      <td>239</td>\n",
       "      <td>...</td>\n",
       "      <td>0.00</td>\n",
       "      <td>0.0</td>\n",
       "      <td>0.0</td>\n",
       "      <td>1</td>\n",
       "    </tr>\n",
       "    <tr>\n",
       "      <th>0</th>\n",
       "      <td>tcp</td>\n",
       "      <td>http</td>\n",
       "      <td>SF</td>\n",
       "      <td>235</td>\n",
       "      <td>...</td>\n",
       "      <td>0.00</td>\n",
       "      <td>0.0</td>\n",
       "      <td>0.0</td>\n",
       "      <td>1</td>\n",
       "    </tr>\n",
       "    <tr>\n",
       "      <th>...</th>\n",
       "      <td>...</td>\n",
       "      <td>...</td>\n",
       "      <td>...</td>\n",
       "      <td>...</td>\n",
       "      <td>...</td>\n",
       "      <td>...</td>\n",
       "      <td>...</td>\n",
       "      <td>...</td>\n",
       "      <td>...</td>\n",
       "    </tr>\n",
       "    <tr>\n",
       "      <th>0</th>\n",
       "      <td>tcp</td>\n",
       "      <td>http</td>\n",
       "      <td>SF</td>\n",
       "      <td>203</td>\n",
       "      <td>...</td>\n",
       "      <td>0.01</td>\n",
       "      <td>0.0</td>\n",
       "      <td>0.0</td>\n",
       "      <td>1</td>\n",
       "    </tr>\n",
       "    <tr>\n",
       "      <th>0</th>\n",
       "      <td>tcp</td>\n",
       "      <td>http</td>\n",
       "      <td>SF</td>\n",
       "      <td>291</td>\n",
       "      <td>...</td>\n",
       "      <td>0.01</td>\n",
       "      <td>0.0</td>\n",
       "      <td>0.0</td>\n",
       "      <td>1</td>\n",
       "    </tr>\n",
       "    <tr>\n",
       "      <th>0</th>\n",
       "      <td>tcp</td>\n",
       "      <td>http</td>\n",
       "      <td>SF</td>\n",
       "      <td>219</td>\n",
       "      <td>...</td>\n",
       "      <td>0.01</td>\n",
       "      <td>0.0</td>\n",
       "      <td>0.0</td>\n",
       "      <td>1</td>\n",
       "    </tr>\n",
       "  </tbody>\n",
       "</table>\n",
       "<p>494021 rows × 41 columns</p>\n",
       "</div>"
      ],
      "text/plain": [
       "   protocol_type service flag  src_bytes    ...      dst_host_srv_serror_rate  \\\n",
       "0            tcp    http   SF        181    ...                          0.00   \n",
       "0            tcp    http   SF        239    ...                          0.00   \n",
       "0            tcp    http   SF        235    ...                          0.00   \n",
       "..           ...     ...  ...        ...    ...                           ...   \n",
       "0            tcp    http   SF        203    ...                          0.01   \n",
       "0            tcp    http   SF        291    ...                          0.01   \n",
       "0            tcp    http   SF        219    ...                          0.01   \n",
       "\n",
       "    dst_host_rerror_rate  dst_host_srv_rerror_rate  is_attack  \n",
       "0                    0.0                       0.0          1  \n",
       "0                    0.0                       0.0          1  \n",
       "0                    0.0                       0.0          1  \n",
       "..                   ...                       ...        ...  \n",
       "0                    0.0                       0.0          1  \n",
       "0                    0.0                       0.0          1  \n",
       "0                    0.0                       0.0          1  \n",
       "\n",
       "[494021 rows x 41 columns]"
      ]
     },
     "metadata": {},
     "output_type": "display_data"
    }
   ],
   "source": [
    "# Initialize the URI\n",
    "uri = 'https://archive.ics.uci.edu/ml/machine-learning-databases/kddcup99-mld/kddcup.data_10_percent.gz'\n",
    "\n",
    "import itertools\n",
    "\n",
    "# Get all feature names in the dataset from a metadata page\n",
    "feature_names = [\n",
    "    name_type.split(':')[0]\n",
    "    for name_type in list(\n",
    "        itertools.chain(*pd.read_csv(\n",
    "            'https://archive.ics.uci.edu/ml/machine-learning-databases/kddcup99-mld/kddcup.names',\n",
    "            skiprows=1).values))\n",
    "] + ['is_attack']  # append the class of record in the last column\n",
    "\n",
    "# Get fraudulent data\n",
    "fraud_data_all = pd.read_csv(uri, names=feature_names, compression='gzip')\n",
    "\n",
    "# Convert the status of attack type to a boolean flag\n",
    "fraud_data_all['is_attack'] = fraud_data_all['is_attack'].apply(\n",
    "    lambda x: 1 if x == 'normal.' else 0)\n",
    "\n",
    "# Display the data\n",
    "pd_display(fraud_data_all, \"Network metric samples under normal and anamolous/intrusion conditions\")"
   ]
  },
  {
   "cell_type": "markdown",
   "metadata": {},
   "source": [
    "## \"Normal\" Activity\n",
    "\n",
    "The labeled data contains both normal and intrusion activity samples. We want to train our machine to gain an understanding of normal behavior first, so when encountering outlier activity, the machine can take evasive measures.\n",
    "\n",
    "Let us separate the normal and outlier samples."
   ]
  },
  {
   "cell_type": "code",
   "execution_count": 2,
   "metadata": {
    "collapsed": false
   },
   "outputs": [
    {
     "data": {
      "text/html": [
       "<h4>Normal activity ~20% activity is normal</h4>"
      ],
      "text/plain": [
       "<IPython.core.display.HTML object>"
      ]
     },
     "metadata": {},
     "output_type": "display_data"
    },
    {
     "data": {
      "text/html": [
       "<div>\n",
       "<table border=\"1\" class=\"dataframe\">\n",
       "  <thead>\n",
       "    <tr style=\"text-align: right;\">\n",
       "      <th></th>\n",
       "      <th>protocol_type</th>\n",
       "      <th>service</th>\n",
       "      <th>flag</th>\n",
       "      <th>src_bytes</th>\n",
       "      <th>...</th>\n",
       "      <th>dst_host_srv_serror_rate</th>\n",
       "      <th>dst_host_rerror_rate</th>\n",
       "      <th>dst_host_srv_rerror_rate</th>\n",
       "      <th>is_attack</th>\n",
       "    </tr>\n",
       "  </thead>\n",
       "  <tbody>\n",
       "    <tr>\n",
       "      <th>0</th>\n",
       "      <td>tcp</td>\n",
       "      <td>http</td>\n",
       "      <td>SF</td>\n",
       "      <td>181</td>\n",
       "      <td>...</td>\n",
       "      <td>0.00</td>\n",
       "      <td>0.0</td>\n",
       "      <td>0.0</td>\n",
       "      <td>1</td>\n",
       "    </tr>\n",
       "    <tr>\n",
       "      <th>0</th>\n",
       "      <td>tcp</td>\n",
       "      <td>http</td>\n",
       "      <td>SF</td>\n",
       "      <td>239</td>\n",
       "      <td>...</td>\n",
       "      <td>0.00</td>\n",
       "      <td>0.0</td>\n",
       "      <td>0.0</td>\n",
       "      <td>1</td>\n",
       "    </tr>\n",
       "    <tr>\n",
       "      <th>0</th>\n",
       "      <td>tcp</td>\n",
       "      <td>http</td>\n",
       "      <td>SF</td>\n",
       "      <td>235</td>\n",
       "      <td>...</td>\n",
       "      <td>0.00</td>\n",
       "      <td>0.0</td>\n",
       "      <td>0.0</td>\n",
       "      <td>1</td>\n",
       "    </tr>\n",
       "    <tr>\n",
       "      <th>...</th>\n",
       "      <td>...</td>\n",
       "      <td>...</td>\n",
       "      <td>...</td>\n",
       "      <td>...</td>\n",
       "      <td>...</td>\n",
       "      <td>...</td>\n",
       "      <td>...</td>\n",
       "      <td>...</td>\n",
       "      <td>...</td>\n",
       "    </tr>\n",
       "    <tr>\n",
       "      <th>0</th>\n",
       "      <td>tcp</td>\n",
       "      <td>http</td>\n",
       "      <td>SF</td>\n",
       "      <td>203</td>\n",
       "      <td>...</td>\n",
       "      <td>0.01</td>\n",
       "      <td>0.0</td>\n",
       "      <td>0.0</td>\n",
       "      <td>1</td>\n",
       "    </tr>\n",
       "    <tr>\n",
       "      <th>0</th>\n",
       "      <td>tcp</td>\n",
       "      <td>http</td>\n",
       "      <td>SF</td>\n",
       "      <td>291</td>\n",
       "      <td>...</td>\n",
       "      <td>0.01</td>\n",
       "      <td>0.0</td>\n",
       "      <td>0.0</td>\n",
       "      <td>1</td>\n",
       "    </tr>\n",
       "    <tr>\n",
       "      <th>0</th>\n",
       "      <td>tcp</td>\n",
       "      <td>http</td>\n",
       "      <td>SF</td>\n",
       "      <td>219</td>\n",
       "      <td>...</td>\n",
       "      <td>0.01</td>\n",
       "      <td>0.0</td>\n",
       "      <td>0.0</td>\n",
       "      <td>1</td>\n",
       "    </tr>\n",
       "  </tbody>\n",
       "</table>\n",
       "<p>97278 rows × 41 columns</p>\n",
       "</div>"
      ],
      "text/plain": [
       "   protocol_type service flag  src_bytes    ...      dst_host_srv_serror_rate  \\\n",
       "0            tcp    http   SF        181    ...                          0.00   \n",
       "0            tcp    http   SF        239    ...                          0.00   \n",
       "0            tcp    http   SF        235    ...                          0.00   \n",
       "..           ...     ...  ...        ...    ...                           ...   \n",
       "0            tcp    http   SF        203    ...                          0.01   \n",
       "0            tcp    http   SF        291    ...                          0.01   \n",
       "0            tcp    http   SF        219    ...                          0.01   \n",
       "\n",
       "    dst_host_rerror_rate  dst_host_srv_rerror_rate  is_attack  \n",
       "0                    0.0                       0.0          1  \n",
       "0                    0.0                       0.0          1  \n",
       "0                    0.0                       0.0          1  \n",
       "..                   ...                       ...        ...  \n",
       "0                    0.0                       0.0          1  \n",
       "0                    0.0                       0.0          1  \n",
       "0                    0.0                       0.0          1  \n",
       "\n",
       "[97278 rows x 41 columns]"
      ]
     },
     "metadata": {},
     "output_type": "display_data"
    }
   ],
   "source": [
    "%matplotlib inline\n",
    "# We will train on normal behavior\n",
    "# When the class of record is 1, the record is indicative of normal_activity, \n",
    "# when it is 0 it is anamolous activity\n",
    "good_txns = fraud_data_all[fraud_data_all.is_attack == 1]\n",
    "\n",
    "# Display good txns\n",
    "pd_display(good_txns, \"Normal activity ~20% activity is normal\")"
   ]
  },
  {
   "cell_type": "markdown",
   "metadata": {},
   "source": [
    "## Continuous Frame\n",
    "\n",
    "The data contains continuous attributes as well as categorical attributes. And some label attributes. We will need to convert data into a continuous (floating point attributes) to continue analysis. Let us use one-hot encoding to convert categorical attributes into numeric attributes."
   ]
  },
  {
   "cell_type": "code",
   "execution_count": 3,
   "metadata": {
    "collapsed": false
   },
   "outputs": [
    {
     "data": {
      "text/html": [
       "<h4>All activity normalized on continuous scale</h4>"
      ],
      "text/plain": [
       "<IPython.core.display.HTML object>"
      ]
     },
     "metadata": {},
     "output_type": "display_data"
    },
    {
     "data": {
      "text/html": [
       "<div>\n",
       "<table border=\"1\" class=\"dataframe\">\n",
       "  <thead>\n",
       "    <tr style=\"text-align: right;\">\n",
       "      <th></th>\n",
       "      <th>src_bytes</th>\n",
       "      <th>dst_bytes</th>\n",
       "      <th>land</th>\n",
       "      <th>wrong_fragment</th>\n",
       "      <th>...</th>\n",
       "      <th>flag_S2</th>\n",
       "      <th>flag_S3</th>\n",
       "      <th>flag_SF</th>\n",
       "      <th>flag_SH</th>\n",
       "    </tr>\n",
       "  </thead>\n",
       "  <tbody>\n",
       "    <tr>\n",
       "      <th>0</th>\n",
       "      <td>2.61e-07</td>\n",
       "      <td>1.06e-03</td>\n",
       "      <td>0.0</td>\n",
       "      <td>0.0</td>\n",
       "      <td>...</td>\n",
       "      <td>0.0</td>\n",
       "      <td>0.0</td>\n",
       "      <td>1.0</td>\n",
       "      <td>0.0</td>\n",
       "    </tr>\n",
       "    <tr>\n",
       "      <th>1</th>\n",
       "      <td>3.45e-07</td>\n",
       "      <td>9.43e-05</td>\n",
       "      <td>0.0</td>\n",
       "      <td>0.0</td>\n",
       "      <td>...</td>\n",
       "      <td>0.0</td>\n",
       "      <td>0.0</td>\n",
       "      <td>1.0</td>\n",
       "      <td>0.0</td>\n",
       "    </tr>\n",
       "    <tr>\n",
       "      <th>2</th>\n",
       "      <td>3.39e-07</td>\n",
       "      <td>2.59e-04</td>\n",
       "      <td>0.0</td>\n",
       "      <td>0.0</td>\n",
       "      <td>...</td>\n",
       "      <td>0.0</td>\n",
       "      <td>0.0</td>\n",
       "      <td>1.0</td>\n",
       "      <td>0.0</td>\n",
       "    </tr>\n",
       "    <tr>\n",
       "      <th>...</th>\n",
       "      <td>...</td>\n",
       "      <td>...</td>\n",
       "      <td>...</td>\n",
       "      <td>...</td>\n",
       "      <td>...</td>\n",
       "      <td>...</td>\n",
       "      <td>...</td>\n",
       "      <td>...</td>\n",
       "      <td>...</td>\n",
       "    </tr>\n",
       "    <tr>\n",
       "      <th>494018</th>\n",
       "      <td>2.93e-07</td>\n",
       "      <td>2.33e-04</td>\n",
       "      <td>0.0</td>\n",
       "      <td>0.0</td>\n",
       "      <td>...</td>\n",
       "      <td>0.0</td>\n",
       "      <td>0.0</td>\n",
       "      <td>1.0</td>\n",
       "      <td>0.0</td>\n",
       "    </tr>\n",
       "    <tr>\n",
       "      <th>494019</th>\n",
       "      <td>4.20e-07</td>\n",
       "      <td>2.33e-04</td>\n",
       "      <td>0.0</td>\n",
       "      <td>0.0</td>\n",
       "      <td>...</td>\n",
       "      <td>0.0</td>\n",
       "      <td>0.0</td>\n",
       "      <td>1.0</td>\n",
       "      <td>0.0</td>\n",
       "    </tr>\n",
       "    <tr>\n",
       "      <th>494020</th>\n",
       "      <td>3.16e-07</td>\n",
       "      <td>2.39e-04</td>\n",
       "      <td>0.0</td>\n",
       "      <td>0.0</td>\n",
       "      <td>...</td>\n",
       "      <td>0.0</td>\n",
       "      <td>0.0</td>\n",
       "      <td>1.0</td>\n",
       "      <td>0.0</td>\n",
       "    </tr>\n",
       "  </tbody>\n",
       "</table>\n",
       "<p>97278 rows × 118 columns</p>\n",
       "</div>"
      ],
      "text/plain": [
       "        src_bytes  dst_bytes  land  wrong_fragment   ...     flag_S2  flag_S3  \\\n",
       "0        2.61e-07   1.06e-03   0.0             0.0   ...         0.0      0.0   \n",
       "1        3.45e-07   9.43e-05   0.0             0.0   ...         0.0      0.0   \n",
       "2        3.39e-07   2.59e-04   0.0             0.0   ...         0.0      0.0   \n",
       "...           ...        ...   ...             ...   ...         ...      ...   \n",
       "494018   2.93e-07   2.33e-04   0.0             0.0   ...         0.0      0.0   \n",
       "494019   4.20e-07   2.33e-04   0.0             0.0   ...         0.0      0.0   \n",
       "494020   3.16e-07   2.39e-04   0.0             0.0   ...         0.0      0.0   \n",
       "\n",
       "        flag_SF  flag_SH  \n",
       "0           1.0      0.0  \n",
       "1           1.0      0.0  \n",
       "2           1.0      0.0  \n",
       "...         ...      ...  \n",
       "494018      1.0      0.0  \n",
       "494019      1.0      0.0  \n",
       "494020      1.0      0.0  \n",
       "\n",
       "[97278 rows x 118 columns]"
      ]
     },
     "metadata": {},
     "output_type": "display_data"
    }
   ],
   "source": [
    "# Since there are categorical attributes, let us convert to continuous dataframe\n",
    "from sklearn.preprocessing import MinMaxScaler\n",
    "\n",
    "# Create a scaler to change column values to lie between 0 and 1\n",
    "scaler = MinMaxScaler()\n",
    "\n",
    "# Flattened table\n",
    "unscaled_txns = pd.get_dummies(\n",
    "    fraud_data_all.convert_objects(convert_numeric=True))\n",
    "\n",
    "# Normalize columns\n",
    "flat_txns = pd.DataFrame(\n",
    "    scaler.fit_transform(unscaled_txns), columns=[unscaled_txns.columns])\n",
    "\n",
    "# Good txns again\n",
    "norm_txns = flat_txns[flat_txns.is_attack == 1]\n",
    "\n",
    "# Bad txns again\n",
    "abnorm_txns = flat_txns[flat_txns.is_attack != 1]\n",
    "\n",
    "# Display the frame\n",
    "pd_display(norm_txns, \"All activity normalized on continuous scale\")"
   ]
  },
  {
   "cell_type": "markdown",
   "metadata": {},
   "source": [
    "## Train\n",
    "\n",
    "Let us train the machine on normal state. Hold 2% for testing the performance of our engine."
   ]
  },
  {
   "cell_type": "code",
   "execution_count": 4,
   "metadata": {
    "collapsed": false
   },
   "outputs": [
    {
     "data": {
      "text/html": [
       "<h4>Training set without the prior label attribute</h4>"
      ],
      "text/plain": [
       "<IPython.core.display.HTML object>"
      ]
     },
     "metadata": {},
     "output_type": "display_data"
    },
    {
     "data": {
      "text/html": [
       "<div>\n",
       "<table border=\"1\" class=\"dataframe\">\n",
       "  <thead>\n",
       "    <tr style=\"text-align: right;\">\n",
       "      <th></th>\n",
       "      <th>src_bytes</th>\n",
       "      <th>dst_bytes</th>\n",
       "      <th>land</th>\n",
       "      <th>wrong_fragment</th>\n",
       "      <th>...</th>\n",
       "      <th>flag_S2</th>\n",
       "      <th>flag_S3</th>\n",
       "      <th>flag_SF</th>\n",
       "      <th>flag_SH</th>\n",
       "    </tr>\n",
       "  </thead>\n",
       "  <tbody>\n",
       "    <tr>\n",
       "      <th>80066</th>\n",
       "      <td>2.86e-07</td>\n",
       "      <td>9.17e-05</td>\n",
       "      <td>0.0</td>\n",
       "      <td>0.0</td>\n",
       "      <td>...</td>\n",
       "      <td>0.0</td>\n",
       "      <td>0.0</td>\n",
       "      <td>1.0</td>\n",
       "      <td>0.0</td>\n",
       "    </tr>\n",
       "    <tr>\n",
       "      <th>13094</th>\n",
       "      <td>2.91e-07</td>\n",
       "      <td>7.30e-04</td>\n",
       "      <td>0.0</td>\n",
       "      <td>0.0</td>\n",
       "      <td>...</td>\n",
       "      <td>0.0</td>\n",
       "      <td>0.0</td>\n",
       "      <td>1.0</td>\n",
       "      <td>0.0</td>\n",
       "    </tr>\n",
       "    <tr>\n",
       "      <th>84148</th>\n",
       "      <td>3.81e-07</td>\n",
       "      <td>1.44e-04</td>\n",
       "      <td>0.0</td>\n",
       "      <td>0.0</td>\n",
       "      <td>...</td>\n",
       "      <td>0.0</td>\n",
       "      <td>0.0</td>\n",
       "      <td>1.0</td>\n",
       "      <td>0.0</td>\n",
       "    </tr>\n",
       "    <tr>\n",
       "      <th>...</th>\n",
       "      <td>...</td>\n",
       "      <td>...</td>\n",
       "      <td>...</td>\n",
       "      <td>...</td>\n",
       "      <td>...</td>\n",
       "      <td>...</td>\n",
       "      <td>...</td>\n",
       "      <td>...</td>\n",
       "      <td>...</td>\n",
       "    </tr>\n",
       "    <tr>\n",
       "      <th>457438</th>\n",
       "      <td>1.00e-06</td>\n",
       "      <td>6.42e-05</td>\n",
       "      <td>0.0</td>\n",
       "      <td>0.0</td>\n",
       "      <td>...</td>\n",
       "      <td>0.0</td>\n",
       "      <td>0.0</td>\n",
       "      <td>1.0</td>\n",
       "      <td>0.0</td>\n",
       "    </tr>\n",
       "    <tr>\n",
       "      <th>39143</th>\n",
       "      <td>4.85e-07</td>\n",
       "      <td>3.37e-04</td>\n",
       "      <td>0.0</td>\n",
       "      <td>0.0</td>\n",
       "      <td>...</td>\n",
       "      <td>0.0</td>\n",
       "      <td>0.0</td>\n",
       "      <td>1.0</td>\n",
       "      <td>0.0</td>\n",
       "    </tr>\n",
       "    <tr>\n",
       "      <th>32710</th>\n",
       "      <td>4.76e-07</td>\n",
       "      <td>6.01e-04</td>\n",
       "      <td>0.0</td>\n",
       "      <td>0.0</td>\n",
       "      <td>...</td>\n",
       "      <td>0.0</td>\n",
       "      <td>0.0</td>\n",
       "      <td>1.0</td>\n",
       "      <td>0.0</td>\n",
       "    </tr>\n",
       "  </tbody>\n",
       "</table>\n",
       "<p>95373 rows × 117 columns</p>\n",
       "</div>"
      ],
      "text/plain": [
       "        src_bytes  dst_bytes  land  wrong_fragment   ...     flag_S2  flag_S3  \\\n",
       "80066    2.86e-07   9.17e-05   0.0             0.0   ...         0.0      0.0   \n",
       "13094    2.91e-07   7.30e-04   0.0             0.0   ...         0.0      0.0   \n",
       "84148    3.81e-07   1.44e-04   0.0             0.0   ...         0.0      0.0   \n",
       "...           ...        ...   ...             ...   ...         ...      ...   \n",
       "457438   1.00e-06   6.42e-05   0.0             0.0   ...         0.0      0.0   \n",
       "39143    4.85e-07   3.37e-04   0.0             0.0   ...         0.0      0.0   \n",
       "32710    4.76e-07   6.01e-04   0.0             0.0   ...         0.0      0.0   \n",
       "\n",
       "        flag_SF  flag_SH  \n",
       "80066       1.0      0.0  \n",
       "13094       1.0      0.0  \n",
       "84148       1.0      0.0  \n",
       "...         ...      ...  \n",
       "457438      1.0      0.0  \n",
       "39143       1.0      0.0  \n",
       "32710       1.0      0.0  \n",
       "\n",
       "[95373 rows x 117 columns]"
      ]
     },
     "metadata": {},
     "output_type": "display_data"
    }
   ],
   "source": [
    "from sklearn import svm\n",
    "from sklearn.model_selection import train_test_split\n",
    "\n",
    "# Split the training set and leave 2% for validation\n",
    "(train_set, test_set) = train_test_split(flat_txns.copy(), test_size=0.02)\n",
    "\n",
    "train_set = train_set[train_set.is_attack == 1]\n",
    "\n",
    "# Drop the class label; we do not want to be biased to the existing real label\n",
    "X_set = lambda df: df.drop(['is_attack'], axis=1)\n",
    "\n",
    "# Merge with non-attack/normative set\n",
    "X_train = X_set(train_set)\n",
    "\n",
    "pd_display(X_train, \"Training set without the prior label attribute\")"
   ]
  },
  {
   "cell_type": "markdown",
   "metadata": {},
   "source": [
    "## OneClassSVM classifier\n",
    "\n",
    "Create a binary engine to learn normal activity from anamolous activity"
   ]
  },
  {
   "cell_type": "code",
   "execution_count": 5,
   "metadata": {
    "collapsed": false
   },
   "outputs": [
    {
     "data": {
      "text/plain": [
       "OneClassSVM(cache_size=200, coef0=0.0, degree=3, gamma='auto', kernel='rbf',\n",
       "      max_iter=-1, nu=0.005, random_state=None, shrinking=True, tol=0.001,\n",
       "      verbose=False)"
      ]
     },
     "execution_count": 5,
     "metadata": {},
     "output_type": "execute_result"
    }
   ],
   "source": [
    "# Create a classifier and fit\n",
    "clf = svm.OneClassSVM(nu=0.005)\n",
    "\n",
    "# We onyl feed good activity to the OneClassSVM classifier. We do not want to pollute with anamolous samples\n",
    "clf.fit(X_train)"
   ]
  },
  {
   "cell_type": "markdown",
   "metadata": {},
   "source": [
    "## Visualize\n",
    "\n",
    "There are over 117 features that describe the recorded attributes. But since we trained the OneClassSVM for normal activity, it is apt to imagine the classifier is demarking globs of areas in this hyperspace where common good traits are observed. Anything outside these sage glob zones may be assumed as outliers. \n",
    "\n",
    "Let us plot the globs of good transactions on a two dimensional plot to visualize \"hot-spots\" of normalcy and \"not-spots\" of outliers. Since we have many dimensions (~117), we first reduce the dimensionality to three to visualize the globs."
   ]
  },
  {
   "cell_type": "code",
   "execution_count": 6,
   "metadata": {
    "collapsed": false,
    "scrolled": false
   },
   "outputs": [
    {
     "data": {
      "text/html": [
       "<div>\n",
       "<table border=\"1\" class=\"dataframe\">\n",
       "  <thead>\n",
       "    <tr style=\"text-align: right;\">\n",
       "      <th></th>\n",
       "      <th>x</th>\n",
       "      <th>y</th>\n",
       "      <th>z</th>\n",
       "    </tr>\n",
       "  </thead>\n",
       "  <tbody>\n",
       "    <tr>\n",
       "      <th>0</th>\n",
       "      <td>-0.68</td>\n",
       "      <td>-0.06</td>\n",
       "      <td>-0.04</td>\n",
       "    </tr>\n",
       "    <tr>\n",
       "      <th>1</th>\n",
       "      <td>-0.68</td>\n",
       "      <td>-0.02</td>\n",
       "      <td>0.02</td>\n",
       "    </tr>\n",
       "    <tr>\n",
       "      <th>2</th>\n",
       "      <td>-0.56</td>\n",
       "      <td>0.08</td>\n",
       "      <td>0.19</td>\n",
       "    </tr>\n",
       "    <tr>\n",
       "      <th>3</th>\n",
       "      <td>-0.51</td>\n",
       "      <td>-0.28</td>\n",
       "      <td>-0.30</td>\n",
       "    </tr>\n",
       "    <tr>\n",
       "      <th>4</th>\n",
       "      <td>-0.52</td>\n",
       "      <td>-0.27</td>\n",
       "      <td>-0.29</td>\n",
       "    </tr>\n",
       "  </tbody>\n",
       "</table>\n",
       "</div>"
      ],
      "text/plain": [
       "      x     y     z\n",
       "0 -0.68 -0.06 -0.04\n",
       "1 -0.68 -0.02  0.02\n",
       "2 -0.56  0.08  0.19\n",
       "3 -0.51 -0.28 -0.30\n",
       "4 -0.52 -0.27 -0.29"
      ]
     },
     "metadata": {},
     "output_type": "display_data"
    },
    {
     "data": {
      "image/png": "[encoded data removed]",
      "text/plain": [
       "<matplotlib.figure.Figure at 0x114f17490>"
      ]
     },
     "metadata": {},
     "output_type": "display_data"
    },
    {
     "data": {
      "image/png": "[encoded data removed]",
      "text/plain": [
       "<matplotlib.figure.Figure at 0x114f17a10>"
      ]
     },
     "metadata": {},
     "output_type": "display_data"
    }
   ],
   "source": [
    "%matplotlib inline\n",
    "from mpl_toolkits import mplot3d\n",
    "\n",
    "# Since this is a multiattribute space, let us first plot the X spread in \n",
    "# two dimensions (PCA factorization) to see if there is any trend\n",
    "from sklearn.decomposition import PCA\n",
    "\n",
    "# Create a dimensional projector\n",
    "pca = PCA(n_components=3)\n",
    "\n",
    "# Transform the input space\n",
    "X_formed = pd.DataFrame(\n",
    "    pca.fit(X_train).transform(X_train), columns=['x', 'y', 'z'])\n",
    "\n",
    "# Show a preview of the transformed X, Y coordinates in 2 dimensions before plot\n",
    "display(X_formed.head())\n",
    "\n",
    "# Plot charts - 2D first\n",
    "sns.kdeplot(X_formed.x, X_formed.y, linewidth=0.05)\n",
    "plt.show()\n",
    "\n",
    "# Plot in 3D too\n",
    "from mpl_toolkits.mplot3d import Axes3D\n",
    "fig = plt.figure(figsize=(6, 4))\n",
    "ax = fig.add_subplot(111, projection='3d')\n",
    "ax.scatter(X_formed.x, X_formed.y, X_formed.z, s=3, zdir='z')\n",
    "plt.show()"
   ]
  },
  {
   "cell_type": "markdown",
   "metadata": {},
   "source": [
    "## Test/Predict\n",
    "\n",
    "Using the hold-out dataset (the 2% we saved earlier), predict if the outlier transactions are being correctly predicted outside the glob spaces or inside? \n",
    "\n",
    "How accurate is the machine in predicting the outlier/fraudulent transactions? We will use both known normal activity and intrusion activity to study the % accuracy of prediction."
   ]
  },
  {
   "cell_type": "code",
   "execution_count": 7,
   "metadata": {
    "collapsed": false
   },
   "outputs": [
    {
     "data": {
      "text/html": [
       "<h3>Accuracy of outlier and non-outlier detection is at 98.87% and 99.42% respectively</h3>"
      ],
      "text/plain": [
       "<IPython.core.display.HTML object>"
      ]
     },
     "metadata": {},
     "output_type": "display_data"
    }
   ],
   "source": [
    "# Predict for X_test\n",
    "# Filter for all known outliers (aka non normal status records)\n",
    "known_outliers = test_set[test_set.is_attack == 0]\n",
    "known_non_outliers = test_set[test_set.is_attack == 1]\n",
    "\n",
    "# Strip the class label and ask to predict by the one-class SVM\n",
    "y_pred_outliers = clf.predict(X_set(known_outliers))\n",
    "y_pred_nonoutliers = clf.predict(X_set(known_non_outliers))\n",
    "\n",
    "# Print accuracy\n",
    "display(\n",
    "    HTML(\n",
    "        \"<h3>Accuracy of outlier and non-outlier detection is at {0:.2f}% and {1:.2f}% respectively</h3>\".\n",
    "        format(\n",
    "            np.count_nonzero(y_pred_outliers == -1) * 100.0 / len(\n",
    "                known_outliers),\n",
    "            np.count_nonzero(y_pred_nonoutliers == 1) * 100.0 / len(\n",
    "                known_non_outliers))))"
   ]
  }
 ],
 "metadata": {
  "anaconda-cloud": {},
  "hide_input": false,
  "kernelspec": {
   "display_name": "Python [Root]",
   "language": "python",
   "name": "Python [Root]"
  },
  "language_info": {
   "codemirror_mode": {
    "name": "ipython",
    "version": 2
   },
   "file_extension": ".py",
   "mimetype": "text/x-python",
   "name": "python",
   "nbconvert_exporter": "python",
   "pygments_lexer": "ipython2",
   "version": "2.7.13"
  }
 },
 "nbformat": 4,
 "nbformat_minor": 2
}
